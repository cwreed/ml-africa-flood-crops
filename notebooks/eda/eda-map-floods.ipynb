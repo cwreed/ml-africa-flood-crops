{
 "cells": [
  {
   "cell_type": "code",
   "execution_count": 191,
   "metadata": {},
   "outputs": [],
   "source": [
    "import ee\n",
    "import numpy as np\n",
    "import pandas as pd\n",
    "import matplotlib.pyplot as plt\n",
    "import seaborn as sns\n",
    "import IPython.display as disp\n",
    "import folium\n",
    "import time\n",
    "from scipy.stats import norm, gamma, f, chi2"
   ]
  },
  {
   "cell_type": "code",
   "execution_count": 179,
   "metadata": {},
   "outputs": [],
   "source": [
    "sns.set_style('darkgrid')"
   ]
  },
  {
   "cell_type": "code",
   "execution_count": 312,
   "metadata": {},
   "outputs": [
    {
     "data": {
      "text/html": [
       "<p>To authorize access needed by Earth Engine, open the following\n",
       "        URL in a web browser and follow the instructions:</p>\n",
       "        <p><a href=https://accounts.google.com/o/oauth2/auth?client_id=517222506229-vsmmajv00ul0bs7p89v5m89qs8eb9359.apps.googleusercontent.com&scope=https%3A%2F%2Fwww.googleapis.com%2Fauth%2Fearthengine+https%3A%2F%2Fwww.googleapis.com%2Fauth%2Fdevstorage.full_control&redirect_uri=urn%3Aietf%3Awg%3Aoauth%3A2.0%3Aoob&response_type=code&code_challenge=FRtB087sDV4iHq1L9wKVlzvb2sZEnkMmfHxn5gFGD2A&code_challenge_method=S256>https://accounts.google.com/o/oauth2/auth?client_id=517222506229-vsmmajv00ul0bs7p89v5m89qs8eb9359.apps.googleusercontent.com&scope=https%3A%2F%2Fwww.googleapis.com%2Fauth%2Fearthengine+https%3A%2F%2Fwww.googleapis.com%2Fauth%2Fdevstorage.full_control&redirect_uri=urn%3Aietf%3Awg%3Aoauth%3A2.0%3Aoob&response_type=code&code_challenge=FRtB087sDV4iHq1L9wKVlzvb2sZEnkMmfHxn5gFGD2A&code_challenge_method=S256</a></p>\n",
       "        <p>The authorization workflow will generate a code, which you\n",
       "        should paste in the box below</p>\n",
       "        "
      ],
      "text/plain": [
       "<IPython.core.display.HTML object>"
      ]
     },
     "metadata": {},
     "output_type": "display_data"
    },
    {
     "name": "stdout",
     "output_type": "stream",
     "text": [
      "\n",
      "Successfully saved authorization token.\n"
     ]
    }
   ],
   "source": [
    "ee.Authenticate()"
   ]
  },
  {
   "cell_type": "code",
   "execution_count": 313,
   "metadata": {},
   "outputs": [],
   "source": [
    "ee.Initialize()"
   ]
  },
  {
   "cell_type": "code",
   "execution_count": 314,
   "metadata": {},
   "outputs": [],
   "source": [
    "dfo_floods = ee.ImageCollection(\"GLOBAL_FLOOD_DB/MODIS_EVENTS/V1\")\n",
    "dfo_floods = dfo_floods.select(['flooded', 'jrc_perm_water'])\n"
   ]
  },
  {
   "cell_type": "code",
   "execution_count": 315,
   "metadata": {},
   "outputs": [],
   "source": [
    "def createTimeBand(img):\n",
    "    year = ee.Date(img.get('system:time_start')).get('year').subtract(1991)\n",
    "    mask = img.select('flooded').gt(0).And(img.select('jrc_perm_water').eq(0))\n",
    "    return ee.Image(year).byte().addBands(img.updateMask(mask)).select(['constant', 'flooded'])"
   ]
  },
  {
   "cell_type": "code",
   "execution_count": 316,
   "metadata": {},
   "outputs": [],
   "source": [
    "# dfo_flooded = dfo_floods.map(createTimeBand)\n",
    "dfo_flooded_2018 = dfo_floods.filterDate(ee.Date('2018-01-01'), ee.Date('2018-12-31')).map(createTimeBand)"
   ]
  },
  {
   "cell_type": "code",
   "execution_count": 317,
   "metadata": {},
   "outputs": [],
   "source": [
    "def add_ee_layer(self, ee_image_object, vis_params, name):\n",
    "    map_id_dict = ee.Image(ee_image_object).getMapId(vis_params)\n",
    "    folium.raster_layers.TileLayer(\n",
    "        tiles = map_id_dict['tile_fetcher'].url_format,\n",
    "        attr = 'Map Data © <a href=\"https://earthengine.google.com/\">Google Earth Engine</a>',\n",
    "        name = name,\n",
    "        overlay = True,\n",
    "        control = True\n",
    "    ).add_to(self)\n",
    " \n",
    "\n",
    "folium.Map.add_ee_layer = add_ee_layer"
   ]
  },
  {
   "cell_type": "code",
   "execution_count": 318,
   "metadata": {},
   "outputs": [
    {
     "data": {
      "text/plain": [
       "{'type': 'ImageCollection',\n",
       " 'bands': [],\n",
       " 'id': 'GLOBAL_FLOOD_DB/MODIS_EVENTS/V1',\n",
       " 'version': 1641990150503727,\n",
       " 'properties': {'date_range': [950745600000, 1544400000000],\n",
       "  'period': 0,\n",
       "  'type_name': 'ImageCollection',\n",
       "  'max_mirrored_version': 1627592385154748,\n",
       "  'keywords': ['c2s',\n",
       "   'cloudtostreet',\n",
       "   'dartmouth',\n",
       "   'dfo',\n",
       "   'flood',\n",
       "   'gfd',\n",
       "   'inundation',\n",
       "   'surface',\n",
       "   'water'],\n",
       "  'thumb': 'https://mw1.google.com/ges/dd/images/GLOBAL_FLOOD_DB_MODIS_EVENTS_V1_0_thumb.png',\n",
       "  'description': '<p>The Global Flood Database contains maps of the extent and\\ntemporal distribution of 913 flood events occurring between 2000-2018. For more\\ninformation, see\\n<a href=\"https://doi.org/10.1038/s41586-021-03695-w\">the associated journal article</a>.</p><p>Flood events were collected from\\nthe <a href=\"https://floodobservatory.colorado.edu/\">Dartmouth Flood Observatory</a>\\nand used to collect MODIS imagery. The selected\\n913 events are those that were successfully mapped (passed quality control as\\nhaving significant inundation beyond permanent water) using 12,719 scenes from\\nTerra and Aqua MODIS sensors. Each pixel was classified as water or non-water\\nat 250-meter resolution during the full date range of each flood event and\\nsubsequent data products were generated including maximum flood extent\\n(&quot;flooded&quot; band) and the duration of inundation in days (&quot;duration&quot; band).\\nWater and non-water classifications during a flood event include permanent\\nwater (here resampling the 30-meter\\n<a href=\"https://global-surface-water.appspot.com/\">JRC Global Surface Water dataset</a>\\nrepresenting permanent water to 250-meter resolution), which can be\\nmasked out to isolate flood water using the &quot;jrc_perm_water&quot; band.\\nExtra data quality\\nbands were added representing cloud conditions during the flood event (e.g.,\\n&quot;clear_views&quot; representing the number of clear days the flood was observed\\nbetween its start and end dates and &quot;clear_perc&quot; representing the percentage of\\nclear day observation of the total event duration in days).</p><p>Each image in the ImageCollection represents the map of an individual flood.\\nThe collection can be filtered\\nby date, country, or Dartmouth Flood Observatory original ID.</p><p><b>Provider: <a href=\"http://global-flood-database.cloudtostreet.info/\">Cloud to Street (C2S) / Dartmouth Flood Observatory (DFO)</a></b><br><p><b>Resolution</b><br>30 meters\\n</p><p><b>Bands</b><table class=\"eecat\"><tr><th scope=\"col\">Name</th><th scope=\"col\">Description</th></tr><tr><td>flooded</td><td><p>Maximum extent of flood water during an event.</p><ul><li>1 - area of surface water</li><li>0 - no water</li></ul></td></tr><tr><td>flood_duration</td><td><p>Duration of surface water during an event in days. Pixel values indicate\\nthe number of composite days a pixel’s area was considered water during an\\nevent. 3-day MODIS composites were used.</p></td></tr><tr><td>clear_views</td><td><p>Number of cloud-free observations in days between the start and end day\\nof each event. Cloud coverage is determined by the MODIS Quality\\nAssurance band (&#39;state_1km&#39;).</p></td></tr><tr><td>clear_perc</td><td><p>Percentage of clear view observations during a given flood event. This is\\nequivalent to the &#39;clear_views&#39; band but normalized to the number of MODIS\\nimages per flood event.  Cloud coverage is determined by the MODIS\\nQuality Assurance band (&#39;state_1km&#39;).</p></td></tr><tr><td>jrc_perm_water</td><td><p>Permanent water determined by the JRC Global Surface Water dataset using the\\n&#39;transition&#39; band.  Resolution is maintained as the original 30-meter\\nresolution of the JRC dataset.</p><ul><li>1 - permanent water</li><li>0 - non-water.</li></ul></td></tr></table><p><b>Image Properties</b><table class=\"eecat\"><tr><th scope=\"col\">Name</th><th scope=\"col\">Type</th><th scope=\"col\">Description</th></tr><tr><td>id</td><td>INT</td><td><p>Unique catalog ID of flood event that aligns with the Dartmouth Flood\\nObservatory (DFO).</p></td></tr><tr><td>cc</td><td>STRING</td><td><p>Three-letter ISO country codes (in a list) for countries for which\\nflood water was detected in watersheds intersecting the DFO event polygon.</p></td></tr><tr><td>countries</td><td>STRING</td><td><p>Country names (in a list) for countries for which flood water was\\ndetected in watersheds intersecting the DFO event polygon.</p></td></tr><tr><td>dfo_centroid_x</td><td>DOUBLE</td><td><p>Centroid longitude of DFO polygon estimating the location of a flood\\nevent (DFO database).</p></td></tr><tr><td>dfo_centroid_y</td><td>DOUBLE</td><td><p>Centroid latitude of DFO polygon estimating the location of a flood\\nevent (DFO database).</p></td></tr><tr><td>dfo_country</td><td>STRING</td><td><p>Primary country of flooding (DFO database).</p></td></tr><tr><td>dfo_other_country</td><td>STRING</td><td><p>Secondary country of flooding (DFO database).</p></td></tr><tr><td>dfo_displaced</td><td>INT</td><td><p>Estimated total number of people left homeless or evacuated after a\\nflood event (DFO database).</p></td></tr><tr><td>dfo_main_cause</td><td>STRING</td><td><p>The main cause of a flood event in the DFO database. Not normalized.</p></td></tr><tr><td>dfo_severity</td><td>DOUBLE</td><td><p>Severity of a flood event (DFO database):</p><ul><li>1 - large flood events, significant damage to structure or agriculture,\\nfatalities, and/or 5-15 year reported interval since the last\\nsimilar event</li><li>1.5 - very large events: &gt;15 year but &lt;100 year recurrence interval</li><li>2 - extreme events: recurrence interval &gt;100 years)</li></ul></td></tr><tr><td>dfo_dead</td><td>INT</td><td><p>Estimated fatalities due to a flood event (DFO database).</p></td></tr><tr><td>dfo_validation_type</td><td>STRING</td><td><p>Primary source of flood event confirmation (DFO database). Not normalized.</p></td></tr><tr><td>glide_index</td><td>STRING</td><td><p><a href=\"https://glidenumber.net/glide/public/about.jsp\">GLobal IDEntifier Number</a>.</p></td></tr><tr><td>gfd_country_code</td><td>STRING</td><td><p>Comma-separated list of two-letter FIPS country codes for countries\\nintersecting with the watershed used as the area of interest\\nin the water detection algorithm.</p></td></tr><tr><td>gfd_country_name</td><td>STRING</td><td><p>Country names (in a list) for countries intersecting with the watershed\\nused as the area of interest in the water detection algorithm.</p></td></tr><tr><td>composite_type</td><td>STRING</td><td><p>Number of days used for compositing in water detection algorithm.</p></td></tr><tr><td>threshold_type</td><td>STRING</td><td><p>Type of thresholds used to classify water/ non-water in water detection\\nalgorithm - &quot;otsu&quot; or &quot;standard&quot;.</p></td></tr><tr><td>threshold_b1b2</td><td>DOUBLE</td><td><p>Threshold value applied to the b2b1-ratio used in the water detection\\nalgorithm.</p></td></tr><tr><td>threshold_b7</td><td>DOUBLE</td><td><p>Threshold value applied to band 7 (SWIR) used in the water detection\\nalgorithm.</p></td></tr><tr><td>otsu_sample_res</td><td>DOUBLE</td><td><p>Spatial resolution (in m) of the reducer used to build MODIS mosaic from\\nwhich to then sample and estimate an otsu threshold (only available for flood\\nevents which used an otsu and not the default threshold).</p></td></tr><tr><td>slope_threshold</td><td>DOUBLE</td><td><p>Value used to mask steep areas from water detection algorithm to\\nminimize error from terrain shadows.</p></td></tr></table><p><b>Terms of Use</b><br><p>This work is licensed under the Creative Commons Attribution Non Commercial 4.0\\nInternational license.</p><p><b>Suggested citation(s)</b><ul><li><p>Tellman, B., J.A. Sullivan, C. Kuhn, A.J. Kettner, C.S. Doyle, G.R.\\nBrakenridge, T. Erickson, D.A. Slayback. (Accepted.)\\nSatellites observe increasing proportion of population exposed\\nto floods. Nature.\\n<a href=\"https://doi.org/10.1038/s41586-021-03695-w\">doi:10.1038/s41586-021-03695-w</a></p></li></ul><style>\\n  table.eecat {\\n  border: 1px solid black;\\n  border-collapse: collapse;\\n  font-size: 13px;\\n  }\\n  table.eecat td, tr, th {\\n  text-align: left; vertical-align: top;\\n  border: 1px solid gray; padding: 3px;\\n  }\\n  td.nobreak { white-space: nowrap; }\\n</style>',\n",
       "  'source_tags': ['c2s', 'cloudtostreet', 'dartmouth', 'dfo'],\n",
       "  'provider_url': 'http://global-flood-database.cloudtostreet.info/',\n",
       "  'title': 'Global Flood Database v1 (2000-2018)',\n",
       "  'sample': 'https://mw1.google.com/ges/dd/images/GLOBAL_FLOOD_DB_MODIS_EVENTS_V1_0_sample.png',\n",
       "  'tags': ['c2s',\n",
       "   'cloudtostreet',\n",
       "   'dartmouth',\n",
       "   'dfo',\n",
       "   'flood',\n",
       "   'gfd',\n",
       "   'inundation',\n",
       "   'surface',\n",
       "   'water'],\n",
       "  'product_tags': ['gfd', 'inundation', 'surface', 'water', 'flood'],\n",
       "  'provider': 'Cloud to Street (C2S) / Dartmouth Flood Observatory (DFO)',\n",
       "  'visualization_0_name': 'Flood duration in days',\n",
       "  'visualization_0_bands': ''},\n",
       " 'features': [{'type': 'Image',\n",
       "   'bands': [{'id': 'constant',\n",
       "     'data_type': {'type': 'PixelType',\n",
       "      'precision': 'int',\n",
       "      'min': 0,\n",
       "      'max': 255},\n",
       "     'crs': 'EPSG:4326',\n",
       "     'crs_transform': [1, 0, 0, 0, 1, 0]},\n",
       "    {'id': 'flooded',\n",
       "     'data_type': {'type': 'PixelType',\n",
       "      'precision': 'int',\n",
       "      'min': 0,\n",
       "      'max': 255},\n",
       "     'dimensions': [6178, 5885],\n",
       "     'crs': 'EPSG:4326',\n",
       "     'crs_transform': [0.002245788210298804,\n",
       "      0,\n",
       "      -67.01207440710601,\n",
       "      0,\n",
       "      -0.002245788210298804,\n",
       "      -14.139482572041269]}],\n",
       "   'properties': {'system:index': 'DFO_4562_From_20180113_to_20180122'}},\n",
       "  {'type': 'Image',\n",
       "   'bands': [{'id': 'constant',\n",
       "     'data_type': {'type': 'PixelType',\n",
       "      'precision': 'int',\n",
       "      'min': 0,\n",
       "      'max': 255},\n",
       "     'crs': 'EPSG:4326',\n",
       "     'crs_transform': [1, 0, 0, 0, 1, 0]},\n",
       "    {'id': 'flooded',\n",
       "     'data_type': {'type': 'PixelType',\n",
       "      'precision': 'int',\n",
       "      'min': 0,\n",
       "      'max': 255},\n",
       "     'dimensions': [8007, 8516],\n",
       "     'crs': 'EPSG:4326',\n",
       "     'crs_transform': [0.002245788210298804,\n",
       "      0,\n",
       "      -71.11962104374253,\n",
       "      0,\n",
       "      -0.002245788210298804,\n",
       "      -14.047405255419017]}],\n",
       "   'properties': {'system:index': 'DFO_4569_From_20180201_to_20180221'}},\n",
       "  {'type': 'Image',\n",
       "   'bands': [{'id': 'constant',\n",
       "     'data_type': {'type': 'PixelType',\n",
       "      'precision': 'int',\n",
       "      'min': 0,\n",
       "      'max': 255},\n",
       "     'crs': 'EPSG:4326',\n",
       "     'crs_transform': [1, 0, 0, 0, 1, 0]},\n",
       "    {'id': 'flooded',\n",
       "     'data_type': {'type': 'PixelType',\n",
       "      'precision': 'int',\n",
       "      'min': 0,\n",
       "      'max': 255},\n",
       "     'dimensions': [6203, 7697],\n",
       "     'crs': 'EPSG:4326',\n",
       "     'crs_transform': [0.002245788210298804,\n",
       "      0,\n",
       "      -72.41544084108493,\n",
       "      0,\n",
       "      -0.002245788210298804,\n",
       "      -3.2002481996757957]}],\n",
       "   'properties': {'system:index': 'DFO_4577_From_20180210_to_20180221'}},\n",
       "  {'type': 'Image',\n",
       "   'bands': [{'id': 'constant',\n",
       "     'data_type': {'type': 'PixelType',\n",
       "      'precision': 'int',\n",
       "      'min': 0,\n",
       "      'max': 255},\n",
       "     'crs': 'EPSG:4326',\n",
       "     'crs_transform': [1, 0, 0, 0, 1, 0]},\n",
       "    {'id': 'flooded',\n",
       "     'data_type': {'type': 'PixelType',\n",
       "      'precision': 'int',\n",
       "      'min': 0,\n",
       "      'max': 255},\n",
       "     'dimensions': [3525, 6462],\n",
       "     'crs': 'EPSG:4326',\n",
       "     'crs_transform': [0.002245788210298804,\n",
       "      0,\n",
       "      140.73007241016424,\n",
       "      0,\n",
       "      -0.002245788210298804,\n",
       "      -9.93312125415161]}],\n",
       "   'properties': {'system:index': 'DFO_4579_From_20180305_to_20180326'}},\n",
       "  {'type': 'Image',\n",
       "   'bands': [{'id': 'constant',\n",
       "     'data_type': {'type': 'PixelType',\n",
       "      'precision': 'int',\n",
       "      'min': 0,\n",
       "      'max': 255},\n",
       "     'crs': 'EPSG:4326',\n",
       "     'crs_transform': [1, 0, 0, 0, 1, 0]},\n",
       "    {'id': 'flooded',\n",
       "     'data_type': {'type': 'PixelType',\n",
       "      'precision': 'int',\n",
       "      'min': 0,\n",
       "      'max': 255},\n",
       "     'dimensions': [7073, 4494],\n",
       "     'crs': 'EPSG:4326',\n",
       "     'crs_transform': [0.002245788210298804,\n",
       "      0,\n",
       "      13.17828521803338,\n",
       "      0,\n",
       "      -0.002245788210298804,\n",
       "      46.46760385929255]}],\n",
       "   'properties': {'system:index': 'DFO_4580_From_20180307_to_20180314'}},\n",
       "  {'type': 'Image',\n",
       "   'bands': [{'id': 'constant',\n",
       "     'data_type': {'type': 'PixelType',\n",
       "      'precision': 'int',\n",
       "      'min': 0,\n",
       "      'max': 255},\n",
       "     'crs': 'EPSG:4326',\n",
       "     'crs_transform': [1, 0, 0, 0, 1, 0]},\n",
       "    {'id': 'flooded',\n",
       "     'data_type': {'type': 'PixelType',\n",
       "      'precision': 'int',\n",
       "      'min': 0,\n",
       "      'max': 255},\n",
       "     'dimensions': [7073, 4528],\n",
       "     'crs': 'EPSG:4326',\n",
       "     'crs_transform': [0.002245788210298804,\n",
       "      0,\n",
       "      13.17828521803338,\n",
       "      0,\n",
       "      -0.002245788210298804,\n",
       "      46.54171487023241]}],\n",
       "   'properties': {'system:index': 'DFO_4581_From_20180310_to_20180314'}},\n",
       "  {'type': 'Image',\n",
       "   'bands': [{'id': 'constant',\n",
       "     'data_type': {'type': 'PixelType',\n",
       "      'precision': 'int',\n",
       "      'min': 0,\n",
       "      'max': 255},\n",
       "     'crs': 'EPSG:4326',\n",
       "     'crs_transform': [1, 0, 0, 0, 1, 0]},\n",
       "    {'id': 'flooded',\n",
       "     'data_type': {'type': 'PixelType',\n",
       "      'precision': 'int',\n",
       "      'min': 0,\n",
       "      'max': 255},\n",
       "     'dimensions': [7073, 4494],\n",
       "     'crs': 'EPSG:4326',\n",
       "     'crs_transform': [0.002245788210298804,\n",
       "      0,\n",
       "      13.17828521803338,\n",
       "      0,\n",
       "      -0.002245788210298804,\n",
       "      46.46760385929255]}],\n",
       "   'properties': {'system:index': 'DFO_4583_From_20180226_to_20180302'}},\n",
       "  {'type': 'Image',\n",
       "   'bands': [{'id': 'constant',\n",
       "     'data_type': {'type': 'PixelType',\n",
       "      'precision': 'int',\n",
       "      'min': 0,\n",
       "      'max': 255},\n",
       "     'crs': 'EPSG:4326',\n",
       "     'crs_transform': [1, 0, 0, 0, 1, 0]},\n",
       "    {'id': 'flooded',\n",
       "     'data_type': {'type': 'PixelType',\n",
       "      'precision': 'int',\n",
       "      'min': 0,\n",
       "      'max': 255},\n",
       "     'dimensions': [4157, 1146],\n",
       "     'crs': 'EPSG:4326',\n",
       "     'crs_transform': [0.002245788210298804,\n",
       "      0,\n",
       "      115.81305221689901,\n",
       "      0,\n",
       "      -0.002245788210298804,\n",
       "      -8.057888098552107]}],\n",
       "   'properties': {'system:index': 'DFO_4584_From_20180305_to_20180306'}},\n",
       "  {'type': 'Image',\n",
       "   'bands': [{'id': 'constant',\n",
       "     'data_type': {'type': 'PixelType',\n",
       "      'precision': 'int',\n",
       "      'min': 0,\n",
       "      'max': 255},\n",
       "     'crs': 'EPSG:4326',\n",
       "     'crs_transform': [1, 0, 0, 0, 1, 0]},\n",
       "    {'id': 'flooded',\n",
       "     'data_type': {'type': 'PixelType',\n",
       "      'precision': 'int',\n",
       "      'min': 0,\n",
       "      'max': 255},\n",
       "     'dimensions': [6543, 8657],\n",
       "     'crs': 'EPSG:4326',\n",
       "     'crs_transform': [0.002245788210298804,\n",
       "      0,\n",
       "      11.662378176081688,\n",
       "      0,\n",
       "      -0.002245788210298804,\n",
       "      -0.7164064390853185]}],\n",
       "   'properties': {'system:index': 'DFO_4586_From_20180301_to_20180314'}},\n",
       "  {'type': 'Image',\n",
       "   'bands': [{'id': 'constant',\n",
       "     'data_type': {'type': 'PixelType',\n",
       "      'precision': 'int',\n",
       "      'min': 0,\n",
       "      'max': 255},\n",
       "     'crs': 'EPSG:4326',\n",
       "     'crs_transform': [1, 0, 0, 0, 1, 0]},\n",
       "    {'id': 'flooded',\n",
       "     'data_type': {'type': 'PixelType',\n",
       "      'precision': 'int',\n",
       "      'min': 0,\n",
       "      'max': 255},\n",
       "     'dimensions': [6684, 8717],\n",
       "     'crs': 'EPSG:4326',\n",
       "     'crs_transform': [0.002245788210298804,\n",
       "      0,\n",
       "      -124.41891263876404,\n",
       "      0,\n",
       "      -0.002245788210298804,\n",
       "      42.44090559822679]}],\n",
       "   'properties': {'system:index': 'DFO_4589_From_20180321_to_20180324'}},\n",
       "  {'type': 'Image',\n",
       "   'bands': [{'id': 'constant',\n",
       "     'data_type': {'type': 'PixelType',\n",
       "      'precision': 'int',\n",
       "      'min': 0,\n",
       "      'max': 255},\n",
       "     'crs': 'EPSG:4326',\n",
       "     'crs_transform': [1, 0, 0, 0, 1, 0]},\n",
       "    {'id': 'flooded',\n",
       "     'data_type': {'type': 'PixelType',\n",
       "      'precision': 'int',\n",
       "      'min': 0,\n",
       "      'max': 255},\n",
       "     'dimensions': [2983, 6022],\n",
       "     'crs': 'EPSG:4326',\n",
       "     'crs_transform': [0.002245788210298804,\n",
       "      0,\n",
       "      43.792870100826676,\n",
       "      0,\n",
       "      -0.002245788210298804,\n",
       "      -11.940855914158739]}],\n",
       "   'properties': {'system:index': 'DFO_4590_From_20180316_to_20180323'}},\n",
       "  {'type': 'Image',\n",
       "   'bands': [{'id': 'constant',\n",
       "     'data_type': {'type': 'PixelType',\n",
       "      'precision': 'int',\n",
       "      'min': 0,\n",
       "      'max': 255},\n",
       "     'crs': 'EPSG:4326',\n",
       "     'crs_transform': [1, 0, 0, 0, 1, 0]},\n",
       "    {'id': 'flooded',\n",
       "     'data_type': {'type': 'PixelType',\n",
       "      'precision': 'int',\n",
       "      'min': 0,\n",
       "      'max': 255},\n",
       "     'dimensions': [7298, 3891],\n",
       "     'crs': 'EPSG:4326',\n",
       "     'crs_transform': [0.002245788210298804,\n",
       "      0,\n",
       "      -94.22878172771722,\n",
       "      0,\n",
       "      -0.002245788210298804,\n",
       "      42.465609268540085]}],\n",
       "   'properties': {'system:index': 'DFO_4594_From_20180403_to_20180408'}},\n",
       "  {'type': 'Image',\n",
       "   'bands': [{'id': 'constant',\n",
       "     'data_type': {'type': 'PixelType',\n",
       "      'precision': 'int',\n",
       "      'min': 0,\n",
       "      'max': 255},\n",
       "     'crs': 'EPSG:4326',\n",
       "     'crs_transform': [1, 0, 0, 0, 1, 0]},\n",
       "    {'id': 'flooded',\n",
       "     'data_type': {'type': 'PixelType',\n",
       "      'precision': 'int',\n",
       "      'min': 0,\n",
       "      'max': 255},\n",
       "     'dimensions': [7371, 4492],\n",
       "     'crs': 'EPSG:4326',\n",
       "     'crs_transform': [0.002245788210298804,\n",
       "      0,\n",
       "      13.17828521803338,\n",
       "      0,\n",
       "      -0.002245788210298804,\n",
       "      46.463112282871954]}],\n",
       "   'properties': {'system:index': 'DFO_4597_From_20180325_to_20180408'}},\n",
       "  {'type': 'Image',\n",
       "   'bands': [{'id': 'constant',\n",
       "     'data_type': {'type': 'PixelType',\n",
       "      'precision': 'int',\n",
       "      'min': 0,\n",
       "      'max': 255},\n",
       "     'crs': 'EPSG:4326',\n",
       "     'crs_transform': [1, 0, 0, 0, 1, 0]},\n",
       "    {'id': 'flooded',\n",
       "     'data_type': {'type': 'PixelType',\n",
       "      'precision': 'int',\n",
       "      'min': 0,\n",
       "      'max': 255},\n",
       "     'dimensions': [3990, 8560],\n",
       "     'crs': 'EPSG:4326',\n",
       "     'crs_transform': [0.002245788210298804,\n",
       "      0,\n",
       "      26.913525912220866,\n",
       "      0,\n",
       "      -0.002245788210298804,\n",
       "      9.51989622345663]}],\n",
       "   'properties': {'system:index': 'DFO_4602_From_20180428_to_20180501'}},\n",
       "  {'type': 'Image',\n",
       "   'bands': [{'id': 'constant',\n",
       "     'data_type': {'type': 'PixelType',\n",
       "      'precision': 'int',\n",
       "      'min': 0,\n",
       "      'max': 255},\n",
       "     'crs': 'EPSG:4326',\n",
       "     'crs_transform': [1, 0, 0, 0, 1, 0]},\n",
       "    {'id': 'flooded',\n",
       "     'data_type': {'type': 'PixelType',\n",
       "      'precision': 'int',\n",
       "      'min': 0,\n",
       "      'max': 255},\n",
       "     'dimensions': [3990, 8560],\n",
       "     'crs': 'EPSG:4326',\n",
       "     'crs_transform': [0.002245788210298804,\n",
       "      0,\n",
       "      26.913525912220866,\n",
       "      0,\n",
       "      -0.002245788210298804,\n",
       "      9.51989622345663]}],\n",
       "   'properties': {'system:index': 'DFO_4603_From_20180423_to_20180425'}},\n",
       "  {'type': 'Image',\n",
       "   'bands': [{'id': 'constant',\n",
       "     'data_type': {'type': 'PixelType',\n",
       "      'precision': 'int',\n",
       "      'min': 0,\n",
       "      'max': 255},\n",
       "     'crs': 'EPSG:4326',\n",
       "     'crs_transform': [1, 0, 0, 0, 1, 0]},\n",
       "    {'id': 'flooded',\n",
       "     'data_type': {'type': 'PixelType',\n",
       "      'precision': 'int',\n",
       "      'min': 0,\n",
       "      'max': 255},\n",
       "     'dimensions': [4276, 7931],\n",
       "     'crs': 'EPSG:4326',\n",
       "     'crs_transform': [0.002245788210298804,\n",
       "      0,\n",
       "      90.62878322660822,\n",
       "      0,\n",
       "      -0.002245788210298804,\n",
       "      32.777278929311045]}],\n",
       "   'properties': {'system:index': 'DFO_4632_From_20180615_to_20180620'}},\n",
       "  {'type': 'Image',\n",
       "   'bands': [{'id': 'constant',\n",
       "     'data_type': {'type': 'PixelType',\n",
       "      'precision': 'int',\n",
       "      'min': 0,\n",
       "      'max': 255},\n",
       "     'crs': 'EPSG:4326',\n",
       "     'crs_transform': [1, 0, 0, 0, 1, 0]},\n",
       "    {'id': 'flooded',\n",
       "     'data_type': {'type': 'PixelType',\n",
       "      'precision': 'int',\n",
       "      'min': 0,\n",
       "      'max': 255},\n",
       "     'dimensions': [5259, 2732],\n",
       "     'crs': 'EPSG:4326',\n",
       "     'crs_transform': [0.002245788210298804,\n",
       "      0,\n",
       "      70.64351394315916,\n",
       "      0,\n",
       "      -0.002245788210298804,\n",
       "      35.195992831802855]}],\n",
       "   'properties': {'system:index': 'DFO_4640_From_20180625_to_20180711'}},\n",
       "  {'type': 'Image',\n",
       "   'bands': [{'id': 'constant',\n",
       "     'data_type': {'type': 'PixelType',\n",
       "      'precision': 'int',\n",
       "      'min': 0,\n",
       "      'max': 255},\n",
       "     'crs': 'EPSG:4326',\n",
       "     'crs_transform': [1, 0, 0, 0, 1, 0]},\n",
       "    {'id': 'flooded',\n",
       "     'data_type': {'type': 'PixelType',\n",
       "      'precision': 'int',\n",
       "      'min': 0,\n",
       "      'max': 255},\n",
       "     'dimensions': [6668, 3586],\n",
       "     'crs': 'EPSG:4326',\n",
       "     'crs_transform': [0.002245788210298804,\n",
       "      0,\n",
       "      67.47919835484815,\n",
       "      0,\n",
       "      -0.002245788210298804,\n",
       "      37.111650175187734]}],\n",
       "   'properties': {'system:index': 'DFO_4645_From_20180703_to_20180711'}},\n",
       "  {'type': 'Image',\n",
       "   'bands': [{'id': 'constant',\n",
       "     'data_type': {'type': 'PixelType',\n",
       "      'precision': 'int',\n",
       "      'min': 0,\n",
       "      'max': 255},\n",
       "     'crs': 'EPSG:4326',\n",
       "     'crs_transform': [1, 0, 0, 0, 1, 0]},\n",
       "    {'id': 'flooded',\n",
       "     'data_type': {'type': 'PixelType',\n",
       "      'precision': 'int',\n",
       "      'min': 0,\n",
       "      'max': 255},\n",
       "     'dimensions': [4120, 5015],\n",
       "     'crs': 'EPSG:4326',\n",
       "     'crs_transform': [0.002245788210298804,\n",
       "      0,\n",
       "      98.07132535553846,\n",
       "      0,\n",
       "      -0.002245788210298804,\n",
       "      19.82132674409724]}],\n",
       "   'properties': {'system:index': 'DFO_4652_From_20180717_to_20180723'}},\n",
       "  {'type': 'Image',\n",
       "   'bands': [{'id': 'constant',\n",
       "     'data_type': {'type': 'PixelType',\n",
       "      'precision': 'int',\n",
       "      'min': 0,\n",
       "      'max': 255},\n",
       "     'crs': 'EPSG:4326',\n",
       "     'crs_transform': [1, 0, 0, 0, 1, 0]},\n",
       "    {'id': 'flooded',\n",
       "     'data_type': {'type': 'PixelType',\n",
       "      'precision': 'int',\n",
       "      'min': 0,\n",
       "      'max': 255},\n",
       "     'dimensions': [6519, 7710],\n",
       "     'crs': 'EPSG:4326',\n",
       "     'crs_transform': [0.002245788210298804,\n",
       "      0,\n",
       "      100.08355159196618,\n",
       "      0,\n",
       "      -0.002245788210298804,\n",
       "      26.837169113070708]}],\n",
       "   'properties': {'system:index': 'DFO_4653_From_20180717_to_20180723'}},\n",
       "  {'type': 'Image',\n",
       "   'bands': [{'id': 'constant',\n",
       "     'data_type': {'type': 'PixelType',\n",
       "      'precision': 'int',\n",
       "      'min': 0,\n",
       "      'max': 255},\n",
       "     'crs': 'EPSG:4326',\n",
       "     'crs_transform': [1, 0, 0, 0, 1, 0]},\n",
       "    {'id': 'flooded',\n",
       "     'data_type': {'type': 'PixelType',\n",
       "      'precision': 'int',\n",
       "      'min': 0,\n",
       "      'max': 255},\n",
       "     'dimensions': [15870, 9239],\n",
       "     'crs': 'EPSG:4326',\n",
       "     'crs_transform': [0.002245788210298804,\n",
       "      0,\n",
       "      67.26584847486978,\n",
       "      0,\n",
       "      -0.002245788210298804,\n",
       "      63.506399010829576]}],\n",
       "   'properties': {'system:index': 'DFO_4654_From_20180711_to_20180719'}},\n",
       "  {'type': 'Image',\n",
       "   'bands': [{'id': 'constant',\n",
       "     'data_type': {'type': 'PixelType',\n",
       "      'precision': 'int',\n",
       "      'min': 0,\n",
       "      'max': 255},\n",
       "     'crs': 'EPSG:4326',\n",
       "     'crs_transform': [1, 0, 0, 0, 1, 0]},\n",
       "    {'id': 'flooded',\n",
       "     'data_type': {'type': 'PixelType',\n",
       "      'precision': 'int',\n",
       "      'min': 0,\n",
       "      'max': 255},\n",
       "     'dimensions': [6976, 4235],\n",
       "     'crs': 'EPSG:4326',\n",
       "     'crs_transform': [0.002245788210298804,\n",
       "      0,\n",
       "      -74.93296942482989,\n",
       "      0,\n",
       "      -0.002245788210298804,\n",
       "      6.254520165682169]}],\n",
       "   'properties': {'system:index': 'DFO_4662_From_20180726_to_20180904'}},\n",
       "  {'type': 'Image',\n",
       "   'bands': [{'id': 'constant',\n",
       "     'data_type': {'type': 'PixelType',\n",
       "      'precision': 'int',\n",
       "      'min': 0,\n",
       "      'max': 255},\n",
       "     'crs': 'EPSG:4326',\n",
       "     'crs_transform': [1, 0, 0, 0, 1, 0]},\n",
       "    {'id': 'flooded',\n",
       "     'data_type': {'type': 'PixelType',\n",
       "      'precision': 'int',\n",
       "      'min': 0,\n",
       "      'max': 255},\n",
       "     'dimensions': [7021, 3338],\n",
       "     'crs': 'EPSG:4326',\n",
       "     'crs_transform': [0.002245788210298804,\n",
       "      0,\n",
       "      82.01169386369172,\n",
       "      0,\n",
       "      -0.002245788210298804,\n",
       "      31.292812922303533]}],\n",
       "   'properties': {'system:index': 'DFO_4665_From_20180802_to_20180810'}},\n",
       "  {'type': 'Image',\n",
       "   'bands': [{'id': 'constant',\n",
       "     'data_type': {'type': 'PixelType',\n",
       "      'precision': 'int',\n",
       "      'min': 0,\n",
       "      'max': 255},\n",
       "     'crs': 'EPSG:4326',\n",
       "     'crs_transform': [1, 0, 0, 0, 1, 0]},\n",
       "    {'id': 'flooded',\n",
       "     'data_type': {'type': 'PixelType',\n",
       "      'precision': 'int',\n",
       "      'min': 0,\n",
       "      'max': 255},\n",
       "     'dimensions': [3655, 5840],\n",
       "     'crs': 'EPSG:4326',\n",
       "     'crs_transform': [0.002245788210298804,\n",
       "      0,\n",
       "      90.62878322660822,\n",
       "      0,\n",
       "      -0.002245788210298804,\n",
       "      28.78202170318947]}],\n",
       "   'properties': {'system:index': 'DFO_4666_From_20180715_to_20180810'}},\n",
       "  {'type': 'Image',\n",
       "   'bands': [{'id': 'constant',\n",
       "     'data_type': {'type': 'PixelType',\n",
       "      'precision': 'int',\n",
       "      'min': 0,\n",
       "      'max': 255},\n",
       "     'crs': 'EPSG:4326',\n",
       "     'crs_transform': [1, 0, 0, 0, 1, 0]},\n",
       "    {'id': 'flooded',\n",
       "     'data_type': {'type': 'PixelType',\n",
       "      'precision': 'int',\n",
       "      'min': 0,\n",
       "      'max': 255},\n",
       "     'dimensions': [6194, 4751],\n",
       "     'crs': 'EPSG:4326',\n",
       "     'crs_transform': [0.002245788210298804,\n",
       "      0,\n",
       "      1.9515899547496605,\n",
       "      0,\n",
       "      -0.002245788210298804,\n",
       "      16.45039864043874]}],\n",
       "   'properties': {'system:index': 'DFO_4667_From_20180820_to_20181002'}},\n",
       "  {'type': 'Image',\n",
       "   'bands': [{'id': 'constant',\n",
       "     'data_type': {'type': 'PixelType',\n",
       "      'precision': 'int',\n",
       "      'min': 0,\n",
       "      'max': 255},\n",
       "     'crs': 'EPSG:4326',\n",
       "     'crs_transform': [1, 0, 0, 0, 1, 0]},\n",
       "    {'id': 'flooded',\n",
       "     'data_type': {'type': 'PixelType',\n",
       "      'precision': 'int',\n",
       "      'min': 0,\n",
       "      'max': 255},\n",
       "     'dimensions': [7289, 4017],\n",
       "     'crs': 'EPSG:4326',\n",
       "     'crs_transform': [0.002245788210298804,\n",
       "      0,\n",
       "      73.38337555972372,\n",
       "      0,\n",
       "      -0.002245788210298804,\n",
       "      31.47023019091714]}],\n",
       "   'properties': {'system:index': 'DFO_4673_From_20180901_to_20180907'}},\n",
       "  {'type': 'Image',\n",
       "   'bands': [{'id': 'constant',\n",
       "     'data_type': {'type': 'PixelType',\n",
       "      'precision': 'int',\n",
       "      'min': 0,\n",
       "      'max': 255},\n",
       "     'crs': 'EPSG:4326',\n",
       "     'crs_transform': [1, 0, 0, 0, 1, 0]},\n",
       "    {'id': 'flooded',\n",
       "     'data_type': {'type': 'PixelType',\n",
       "      'precision': 'int',\n",
       "      'min': 0,\n",
       "      'max': 255},\n",
       "     'dimensions': [3269, 1966],\n",
       "     'crs': 'EPSG:4326',\n",
       "     'crs_transform': [0.002245788210298804,\n",
       "      0,\n",
       "      -82.795473949086,\n",
       "      0,\n",
       "      -0.002245788210298804,\n",
       "      37.529366782303306]}],\n",
       "   'properties': {'system:index': 'DFO_4676_From_20180915_to_20181002'}},\n",
       "  {'type': 'Image',\n",
       "   'bands': [{'id': 'constant',\n",
       "     'data_type': {'type': 'PixelType',\n",
       "      'precision': 'int',\n",
       "      'min': 0,\n",
       "      'max': 255},\n",
       "     'crs': 'EPSG:4326',\n",
       "     'crs_transform': [1, 0, 0, 0, 1, 0]},\n",
       "    {'id': 'flooded',\n",
       "     'data_type': {'type': 'PixelType',\n",
       "      'precision': 'int',\n",
       "      'min': 0,\n",
       "      'max': 255},\n",
       "     'dimensions': [2777, 3102],\n",
       "     'crs': 'EPSG:4326',\n",
       "     'crs_transform': [0.002245788210298804,\n",
       "      0,\n",
       "      -3.9660619793876872,\n",
       "      0,\n",
       "      -0.002245788210298804,\n",
       "      14.078846290363202]}],\n",
       "   'properties': {'system:index': 'DFO_4683_From_20180901_to_20181002'}},\n",
       "  {'type': 'Image',\n",
       "   'bands': [{'id': 'constant',\n",
       "     'data_type': {'type': 'PixelType',\n",
       "      'precision': 'int',\n",
       "      'min': 0,\n",
       "      'max': 255},\n",
       "     'crs': 'EPSG:4326',\n",
       "     'crs_transform': [1, 0, 0, 0, 1, 0]},\n",
       "    {'id': 'flooded',\n",
       "     'data_type': {'type': 'PixelType',\n",
       "      'precision': 'int',\n",
       "      'min': 0,\n",
       "      'max': 255},\n",
       "     'dimensions': [5475, 9405],\n",
       "     'crs': 'EPSG:4326',\n",
       "     'crs_transform': [0.002245788210298804,\n",
       "      0,\n",
       "      -109.43725948786071,\n",
       "      0,\n",
       "      -0.002245788210298804,\n",
       "      38.46810625420821]}],\n",
       "   'properties': {'system:index': 'DFO_4695_From_20181023_to_20181027'}},\n",
       "  {'type': 'Image',\n",
       "   'bands': [{'id': 'constant',\n",
       "     'data_type': {'type': 'PixelType',\n",
       "      'precision': 'int',\n",
       "      'min': 0,\n",
       "      'max': 255},\n",
       "     'crs': 'EPSG:4326',\n",
       "     'crs_transform': [1, 0, 0, 0, 1, 0]},\n",
       "    {'id': 'flooded',\n",
       "     'data_type': {'type': 'PixelType',\n",
       "      'precision': 'int',\n",
       "      'min': 0,\n",
       "      'max': 255},\n",
       "     'dimensions': [8042, 6097],\n",
       "     'crs': 'EPSG:4326',\n",
       "     'crs_transform': [0.002245788210298804,\n",
       "      0,\n",
       "      -67.01207440710601,\n",
       "      0,\n",
       "      -0.002245788210298804,\n",
       "      -14.13723678383097]}],\n",
       "   'properties': {'system:index': 'DFO_4703_From_20181029_to_20181107'}},\n",
       "  {'type': 'Image',\n",
       "   'bands': [{'id': 'constant',\n",
       "     'data_type': {'type': 'PixelType',\n",
       "      'precision': 'int',\n",
       "      'min': 0,\n",
       "      'max': 255},\n",
       "     'crs': 'EPSG:4326',\n",
       "     'crs_transform': [1, 0, 0, 0, 1, 0]},\n",
       "    {'id': 'flooded',\n",
       "     'data_type': {'type': 'PixelType',\n",
       "      'precision': 'int',\n",
       "      'min': 0,\n",
       "      'max': 255},\n",
       "     'dimensions': [3256, 5415],\n",
       "     'crs': 'EPSG:4326',\n",
       "     'crs_transform': [0.002245788210298804,\n",
       "      0,\n",
       "      102.16315147470289,\n",
       "      0,\n",
       "      -0.002245788210298804,\n",
       "      21.68533095864525]}],\n",
       "   'properties': {'system:index': 'DFO_4704_From_20181124_to_20181129'}},\n",
       "  {'type': 'Image',\n",
       "   'bands': [{'id': 'constant',\n",
       "     'data_type': {'type': 'PixelType',\n",
       "      'precision': 'int',\n",
       "      'min': 0,\n",
       "      'max': 255},\n",
       "     'crs': 'EPSG:4326',\n",
       "     'crs_transform': [1, 0, 0, 0, 1, 0]},\n",
       "    {'id': 'flooded',\n",
       "     'data_type': {'type': 'PixelType',\n",
       "      'precision': 'int',\n",
       "      'min': 0,\n",
       "      'max': 255},\n",
       "     'dimensions': [6097, 8716],\n",
       "     'crs': 'EPSG:4326',\n",
       "     'crs_transform': [0.002245788210298804,\n",
       "      0,\n",
       "      -123.10063495931864,\n",
       "      0,\n",
       "      -0.002245788210298804,\n",
       "      42.438659810016496]}],\n",
       "   'properties': {'system:index': 'DFO_4711_From_20181205_to_20181210'}}]}"
      ]
     },
     "execution_count": 318,
     "metadata": {},
     "output_type": "execute_result"
    }
   ],
   "source": [
    "dfo_flooded_2018.getInfo()"
   ]
  },
  {
   "cell_type": "code",
   "execution_count": 319,
   "metadata": {},
   "outputs": [
    {
     "data": {
      "text/html": [
       "<div style=\"width:100%;\"><div style=\"position:relative;width:100%;height:0;padding-bottom:60%;\"><span style=\"color:#565656\">Make this Notebook Trusted to load map: File -> Trust Notebook</span><iframe src=\"about:blank\" style=\"position:absolute;width:100%;height:100%;left:0;top:0;border:none !important;\" data-html=%3C%21DOCTYPE%20html%3E%0A%3Chead%3E%20%20%20%20%0A%20%20%20%20%3Cmeta%20http-equiv%3D%22content-type%22%20content%3D%22text/html%3B%20charset%3DUTF-8%22%20/%3E%0A%20%20%20%20%0A%20%20%20%20%20%20%20%20%3Cscript%3E%0A%20%20%20%20%20%20%20%20%20%20%20%20L_NO_TOUCH%20%3D%20false%3B%0A%20%20%20%20%20%20%20%20%20%20%20%20L_DISABLE_3D%20%3D%20false%3B%0A%20%20%20%20%20%20%20%20%3C/script%3E%0A%20%20%20%20%0A%20%20%20%20%3Cstyle%3Ehtml%2C%20body%20%7Bwidth%3A%20100%25%3Bheight%3A%20100%25%3Bmargin%3A%200%3Bpadding%3A%200%3B%7D%3C/style%3E%0A%20%20%20%20%3Cstyle%3E%23map%20%7Bposition%3Aabsolute%3Btop%3A0%3Bbottom%3A0%3Bright%3A0%3Bleft%3A0%3B%7D%3C/style%3E%0A%20%20%20%20%3Cscript%20src%3D%22https%3A//cdn.jsdelivr.net/npm/leaflet%401.6.0/dist/leaflet.js%22%3E%3C/script%3E%0A%20%20%20%20%3Cscript%20src%3D%22https%3A//code.jquery.com/jquery-1.12.4.min.js%22%3E%3C/script%3E%0A%20%20%20%20%3Cscript%20src%3D%22https%3A//maxcdn.bootstrapcdn.com/bootstrap/3.2.0/js/bootstrap.min.js%22%3E%3C/script%3E%0A%20%20%20%20%3Cscript%20src%3D%22https%3A//cdnjs.cloudflare.com/ajax/libs/Leaflet.awesome-markers/2.0.2/leaflet.awesome-markers.js%22%3E%3C/script%3E%0A%20%20%20%20%3Clink%20rel%3D%22stylesheet%22%20href%3D%22https%3A//cdn.jsdelivr.net/npm/leaflet%401.6.0/dist/leaflet.css%22/%3E%0A%20%20%20%20%3Clink%20rel%3D%22stylesheet%22%20href%3D%22https%3A//maxcdn.bootstrapcdn.com/bootstrap/3.2.0/css/bootstrap.min.css%22/%3E%0A%20%20%20%20%3Clink%20rel%3D%22stylesheet%22%20href%3D%22https%3A//maxcdn.bootstrapcdn.com/bootstrap/3.2.0/css/bootstrap-theme.min.css%22/%3E%0A%20%20%20%20%3Clink%20rel%3D%22stylesheet%22%20href%3D%22https%3A//maxcdn.bootstrapcdn.com/font-awesome/4.6.3/css/font-awesome.min.css%22/%3E%0A%20%20%20%20%3Clink%20rel%3D%22stylesheet%22%20href%3D%22https%3A//cdnjs.cloudflare.com/ajax/libs/Leaflet.awesome-markers/2.0.2/leaflet.awesome-markers.css%22/%3E%0A%20%20%20%20%3Clink%20rel%3D%22stylesheet%22%20href%3D%22https%3A//cdn.jsdelivr.net/gh/python-visualization/folium/folium/templates/leaflet.awesome.rotate.min.css%22/%3E%0A%20%20%20%20%0A%20%20%20%20%20%20%20%20%20%20%20%20%3Cmeta%20name%3D%22viewport%22%20content%3D%22width%3Ddevice-width%2C%0A%20%20%20%20%20%20%20%20%20%20%20%20%20%20%20%20initial-scale%3D1.0%2C%20maximum-scale%3D1.0%2C%20user-scalable%3Dno%22%20/%3E%0A%20%20%20%20%20%20%20%20%20%20%20%20%3Cstyle%3E%0A%20%20%20%20%20%20%20%20%20%20%20%20%20%20%20%20%23map_9354426f278e46948886823af60e46d8%20%7B%0A%20%20%20%20%20%20%20%20%20%20%20%20%20%20%20%20%20%20%20%20position%3A%20relative%3B%0A%20%20%20%20%20%20%20%20%20%20%20%20%20%20%20%20%20%20%20%20width%3A%20100.0%25%3B%0A%20%20%20%20%20%20%20%20%20%20%20%20%20%20%20%20%20%20%20%20height%3A%20100.0%25%3B%0A%20%20%20%20%20%20%20%20%20%20%20%20%20%20%20%20%20%20%20%20left%3A%200.0%25%3B%0A%20%20%20%20%20%20%20%20%20%20%20%20%20%20%20%20%20%20%20%20top%3A%200.0%25%3B%0A%20%20%20%20%20%20%20%20%20%20%20%20%20%20%20%20%7D%0A%20%20%20%20%20%20%20%20%20%20%20%20%3C/style%3E%0A%20%20%20%20%20%20%20%20%0A%3C/head%3E%0A%3Cbody%3E%20%20%20%20%0A%20%20%20%20%0A%20%20%20%20%20%20%20%20%20%20%20%20%3Cdiv%20class%3D%22folium-map%22%20id%3D%22map_9354426f278e46948886823af60e46d8%22%20%3E%3C/div%3E%0A%20%20%20%20%20%20%20%20%0A%3C/body%3E%0A%3Cscript%3E%20%20%20%20%0A%20%20%20%20%0A%20%20%20%20%20%20%20%20%20%20%20%20var%20map_9354426f278e46948886823af60e46d8%20%3D%20L.map%28%0A%20%20%20%20%20%20%20%20%20%20%20%20%20%20%20%20%22map_9354426f278e46948886823af60e46d8%22%2C%0A%20%20%20%20%20%20%20%20%20%20%20%20%20%20%20%20%7B%0A%20%20%20%20%20%20%20%20%20%20%20%20%20%20%20%20%20%20%20%20center%3A%20%5B17.832336%2C%2056.627625%5D%2C%0A%20%20%20%20%20%20%20%20%20%20%20%20%20%20%20%20%20%20%20%20crs%3A%20L.CRS.EPSG3857%2C%0A%20%20%20%20%20%20%20%20%20%20%20%20%20%20%20%20%20%20%20%20zoom%3A%204.5%2C%0A%20%20%20%20%20%20%20%20%20%20%20%20%20%20%20%20%20%20%20%20zoomControl%3A%20true%2C%0A%20%20%20%20%20%20%20%20%20%20%20%20%20%20%20%20%20%20%20%20preferCanvas%3A%20false%2C%0A%20%20%20%20%20%20%20%20%20%20%20%20%20%20%20%20%7D%0A%20%20%20%20%20%20%20%20%20%20%20%20%29%3B%0A%0A%20%20%20%20%20%20%20%20%20%20%20%20%0A%0A%20%20%20%20%20%20%20%20%0A%20%20%20%20%0A%20%20%20%20%20%20%20%20%20%20%20%20var%20tile_layer_be3bf026a5c34e839c0421fd83c824b3%20%3D%20L.tileLayer%28%0A%20%20%20%20%20%20%20%20%20%20%20%20%20%20%20%20%22https%3A//%7Bs%7D.tile.openstreetmap.org/%7Bz%7D/%7Bx%7D/%7By%7D.png%22%2C%0A%20%20%20%20%20%20%20%20%20%20%20%20%20%20%20%20%7B%22attribution%22%3A%20%22Data%20by%20%5Cu0026copy%3B%20%5Cu003ca%20href%3D%5C%22http%3A//openstreetmap.org%5C%22%5Cu003eOpenStreetMap%5Cu003c/a%5Cu003e%2C%20under%20%5Cu003ca%20href%3D%5C%22http%3A//www.openstreetmap.org/copyright%5C%22%5Cu003eODbL%5Cu003c/a%5Cu003e.%22%2C%20%22detectRetina%22%3A%20false%2C%20%22maxNativeZoom%22%3A%2018%2C%20%22maxZoom%22%3A%2018%2C%20%22minZoom%22%3A%200%2C%20%22noWrap%22%3A%20false%2C%20%22opacity%22%3A%201%2C%20%22subdomains%22%3A%20%22abc%22%2C%20%22tms%22%3A%20false%7D%0A%20%20%20%20%20%20%20%20%20%20%20%20%29.addTo%28map_9354426f278e46948886823af60e46d8%29%3B%0A%20%20%20%20%20%20%20%20%0A%20%20%20%20%0A%20%20%20%20%20%20%20%20%20%20%20%20var%20tile_layer_9bafc93b3af0499e89b95a8f80777b75%20%3D%20L.tileLayer%28%0A%20%20%20%20%20%20%20%20%20%20%20%20%20%20%20%20%22https%3A//earthengine.googleapis.com/v1alpha/projects/earthengine-legacy/maps/b284603f148e4ddd5765fccd976a80e6-d5f0c11997c4894642e8581b74eac5e7/tiles/%7Bz%7D/%7Bx%7D/%7By%7D%22%2C%0A%20%20%20%20%20%20%20%20%20%20%20%20%20%20%20%20%7B%22attribution%22%3A%20%22Map%20Data%20%5Cu00a9%20%5Cu003ca%20href%3D%5C%22https%3A//earthengine.google.com/%5C%22%5Cu003eGoogle%20Earth%20Engine%5Cu003c/a%5Cu003e%22%2C%20%22detectRetina%22%3A%20false%2C%20%22maxNativeZoom%22%3A%2018%2C%20%22maxZoom%22%3A%2018%2C%20%22minZoom%22%3A%200%2C%20%22noWrap%22%3A%20false%2C%20%22opacity%22%3A%201%2C%20%22subdomains%22%3A%20%22abc%22%2C%20%22tms%22%3A%20false%7D%0A%20%20%20%20%20%20%20%20%20%20%20%20%29.addTo%28map_9354426f278e46948886823af60e46d8%29%3B%0A%20%20%20%20%20%20%20%20%0A%3C/script%3E onload=\"this.contentDocument.open();this.contentDocument.write(    decodeURIComponent(this.getAttribute('data-html')));this.contentDocument.close();\" allowfullscreen webkitallowfullscreen mozallowfullscreen></iframe></div></div>"
      ],
      "text/plain": [
       "<folium.folium.Map at 0x13af3e520>"
      ]
     },
     "metadata": {},
     "output_type": "display_data"
    }
   ],
   "source": [
    "flood_map = folium.Map(location = [17.832336,56.627625], zoom_start = 4.5, tiles = 'OpenStreetMap')\n",
    "flood = dfo_flooded_2018.reduce(ee.Reducer.max())\n",
    "# flood = dfo_flooded_2018.first()\n",
    "flood_map.add_ee_layer(flood, vis_params=None, name='floods_2018')\n",
    "display(flood_map)"
   ]
  },
  {
   "cell_type": "code",
   "execution_count": 320,
   "metadata": {},
   "outputs": [
    {
     "data": {
      "text/plain": [
       "{'type': 'Image',\n",
       " 'bands': [{'id': 'constant_max',\n",
       "   'data_type': {'type': 'PixelType',\n",
       "    'precision': 'int',\n",
       "    'min': 0,\n",
       "    'max': 255},\n",
       "   'crs': 'EPSG:4326',\n",
       "   'crs_transform': [1, 0, 0, 0, 1, 0]},\n",
       "  {'id': 'flooded_max',\n",
       "   'data_type': {'type': 'PixelType',\n",
       "    'precision': 'int',\n",
       "    'min': 0,\n",
       "    'max': 255},\n",
       "   'crs': 'EPSG:4326',\n",
       "   'crs_transform': [1, 0, 0, 0, 1, 0]}]}"
      ]
     },
     "execution_count": 320,
     "metadata": {},
     "output_type": "execute_result"
    }
   ],
   "source": [
    "flood.getInfo()"
   ]
  },
  {
   "cell_type": "markdown",
   "metadata": {},
   "source": [
    "Define a location that looks interesting, and try to plot multiple data sources over it."
   ]
  },
  {
   "cell_type": "code",
   "execution_count": 321,
   "metadata": {},
   "outputs": [],
   "source": [
    "nigeria_loc = {\n",
    "  \"type\": \"FeatureCollection\",\n",
    "  \"features\": [\n",
    "    {\n",
    "      \"type\": \"Feature\",\n",
    "      \"properties\": {},\n",
    "      \"geometry\": {\n",
    "        \"type\": \"Polygon\",\n",
    "        \"coordinates\": [\n",
    "          [\n",
    "            [\n",
    "              9.30816650390625,\n",
    "              7.9640375200936235\n",
    "            ],\n",
    "            [\n",
    "              10.1458740234375,\n",
    "              7.9640375200936235\n",
    "            ],\n",
    "            [\n",
    "              10.1458740234375,\n",
    "              8.496820982890759\n",
    "            ],\n",
    "            [\n",
    "              9.30816650390625,\n",
    "              8.496820982890759\n",
    "            ],\n",
    "            [\n",
    "              9.30816650390625,\n",
    "              7.9640375200936235\n",
    "            ]\n",
    "          ]\n",
    "        ]\n",
    "      }\n",
    "    }\n",
    "  ]\n",
    "}\n",
    "\n",
    "coords = nigeria_loc['features'][0]['geometry']['coordinates']\n",
    "nigeria_aoi = ee.Geometry.Polygon(coords)"
   ]
  },
  {
   "cell_type": "markdown",
   "metadata": {},
   "source": [
    "Let's find a date during 2018 where we know flooding occurred in the area of interest above, and then collect other data to map around it."
   ]
  },
  {
   "cell_type": "code",
   "execution_count": 322,
   "metadata": {},
   "outputs": [],
   "source": [
    "dfo_floods_select = (ee.ImageCollection('GLOBAL_FLOOD_DB/MODIS_EVENTS/V1')\n",
    "                     .filterBounds(nigeria_aoi)\n",
    "                     .filterDate(ee.Date('2018-01-01'), ee.Date('2018-12-31'))\n",
    "                     # .filter(ee.Filter.gt('flooded', 0))\n",
    "                     # .filter(ee.Filter.eq('jrc_perm_water', 0))\n",
    "                     # .sort('system:time_start')\n",
    "                  )"
   ]
  },
  {
   "cell_type": "code",
   "execution_count": 323,
   "metadata": {},
   "outputs": [
    {
     "data": {
      "text/plain": [
       "[('2018-08-20', '2018-10-02')]"
      ]
     },
     "execution_count": 323,
     "metadata": {},
     "output_type": "execute_result"
    }
   ],
   "source": [
    "began = dfo_floods_select.aggregate_array('began').getInfo()\n",
    "ended = dfo_floods_select.aggregate_array('ended').getInfo()\n",
    "\n",
    "flood_dates = list(zip(began,ended))\n",
    "flood_dates"
   ]
  },
  {
   "cell_type": "code",
   "execution_count": 324,
   "metadata": {},
   "outputs": [],
   "source": [
    "sentinel_1_fl = (ee.ImageCollection('COPERNICUS/S1_GRD_FLOAT')\n",
    "                .filterBounds(nigeria_aoi)\n",
    "                .filterDate(ee.Date('2018-08-01'), ee.Date('2018-10-31'))\n",
    ")\n",
    "\n",
    "sentinel_1_db = (ee.ImageCollection('COPERNICUS/S1_GRD')\n",
    "                .filterBounds(nigeria_aoi)\n",
    "                .filterDate(ee.Date('2018-08-01'), ee.Date('2018-10-31'))\n",
    ")\n",
    "\n",
    "sentinel_2 = (ee.ImageCollection('COPERNICUS/S2')\n",
    "                .filterBounds(nigeria_aoi)\n",
    "                .filterDate(ee.Date('2018-08-01'), ee.Date('2018-10-31'))\n",
    ")"
   ]
  },
  {
   "cell_type": "code",
   "execution_count": 325,
   "metadata": {},
   "outputs": [
    {
     "data": {
      "text/plain": [
       "['08/01/18',\n",
       " '08/01/18',\n",
       " '08/06/18',\n",
       " '08/13/18',\n",
       " '08/13/18',\n",
       " '08/18/18',\n",
       " '08/25/18',\n",
       " '08/25/18',\n",
       " '08/30/18',\n",
       " '09/06/18',\n",
       " '09/06/18',\n",
       " '09/11/18',\n",
       " '09/18/18',\n",
       " '09/18/18',\n",
       " '09/23/18',\n",
       " '09/30/18',\n",
       " '09/30/18',\n",
       " '10/05/18',\n",
       " '10/12/18',\n",
       " '10/12/18',\n",
       " '10/17/18',\n",
       " '10/24/18',\n",
       " '10/24/18',\n",
       " '10/29/18']"
      ]
     },
     "execution_count": 325,
     "metadata": {},
     "output_type": "execute_result"
    }
   ],
   "source": [
    "s1_times = sentinel_1_fl.aggregate_array('system:time_start').getInfo()\n",
    "[time.strftime('%x', time.gmtime(t/1000)) for t in s1_times]"
   ]
  },
  {
   "cell_type": "code",
   "execution_count": 326,
   "metadata": {},
   "outputs": [
    {
     "data": {
      "text/plain": [
       "['08/03/18',\n",
       " '08/03/18',\n",
       " '08/03/18',\n",
       " '08/03/18',\n",
       " '08/08/18',\n",
       " '08/08/18',\n",
       " '08/08/18',\n",
       " '08/08/18',\n",
       " '08/13/18',\n",
       " '08/13/18',\n",
       " '08/13/18',\n",
       " '08/13/18',\n",
       " '08/18/18',\n",
       " '08/18/18',\n",
       " '08/18/18',\n",
       " '08/18/18',\n",
       " '08/23/18',\n",
       " '08/23/18',\n",
       " '08/23/18',\n",
       " '08/23/18',\n",
       " '08/28/18',\n",
       " '08/28/18',\n",
       " '08/28/18',\n",
       " '08/28/18',\n",
       " '09/02/18',\n",
       " '09/02/18',\n",
       " '09/02/18',\n",
       " '09/02/18',\n",
       " '09/07/18',\n",
       " '09/07/18',\n",
       " '09/07/18',\n",
       " '09/07/18',\n",
       " '09/12/18',\n",
       " '09/12/18',\n",
       " '09/12/18',\n",
       " '09/12/18',\n",
       " '09/22/18',\n",
       " '09/22/18',\n",
       " '09/22/18',\n",
       " '09/22/18',\n",
       " '09/27/18',\n",
       " '09/27/18',\n",
       " '09/27/18',\n",
       " '09/27/18',\n",
       " '10/02/18',\n",
       " '10/02/18',\n",
       " '10/02/18',\n",
       " '10/02/18',\n",
       " '10/07/18',\n",
       " '10/07/18',\n",
       " '10/07/18',\n",
       " '10/07/18',\n",
       " '10/12/18',\n",
       " '10/12/18',\n",
       " '10/12/18',\n",
       " '10/12/18',\n",
       " '10/17/18',\n",
       " '10/17/18',\n",
       " '10/17/18',\n",
       " '10/17/18',\n",
       " '10/22/18',\n",
       " '10/22/18',\n",
       " '10/22/18',\n",
       " '10/22/18',\n",
       " '10/27/18',\n",
       " '10/27/18',\n",
       " '10/27/18',\n",
       " '10/27/18']"
      ]
     },
     "execution_count": 326,
     "metadata": {},
     "output_type": "execute_result"
    }
   ],
   "source": [
    "s2_times = sentinel_2.aggregate_array('system:time_start').getInfo()\n",
    "[time.strftime('%x', time.gmtime(t/1000)) for t in s2_times]"
   ]
  },
  {
   "cell_type": "code",
   "execution_count": 327,
   "metadata": {},
   "outputs": [
    {
     "data": {
      "text/plain": [
       "['B1',\n",
       " 'B2',\n",
       " 'B3',\n",
       " 'B4',\n",
       " 'B5',\n",
       " 'B6',\n",
       " 'B7',\n",
       " 'B8',\n",
       " 'B8A',\n",
       " 'B9',\n",
       " 'B10',\n",
       " 'B11',\n",
       " 'B12',\n",
       " 'QA10',\n",
       " 'QA20',\n",
       " 'QA60']"
      ]
     },
     "execution_count": 327,
     "metadata": {},
     "output_type": "execute_result"
    }
   ],
   "source": [
    "sentinel_2.first().clip(nigeria_aoi).bandNames().getInfo()"
   ]
  },
  {
   "cell_type": "markdown",
   "metadata": {},
   "source": [
    "# Detecting changes in Sentinel-1 over study area"
   ]
  },
  {
   "cell_type": "markdown",
   "metadata": {},
   "source": [
    "## Part I: Investigating distribution of pixel values"
   ]
  },
  {
   "cell_type": "markdown",
   "metadata": {},
   "source": [
    "Select first image in Sentinel-1 collections to investigate"
   ]
  },
  {
   "cell_type": "code",
   "execution_count": 328,
   "metadata": {},
   "outputs": [],
   "source": [
    "im_db = ee.Image(sentinel_1_db.first().clip(nigeria_aoi))\n",
    "im_fl = ee.Image(sentinel_1_fl.first().clip(nigeria_aoi))"
   ]
  },
  {
   "cell_type": "code",
   "execution_count": 329,
   "metadata": {},
   "outputs": [
    {
     "data": {
      "text/plain": [
       "['VV', 'VH', 'angle']"
      ]
     },
     "execution_count": 329,
     "metadata": {},
     "output_type": "execute_result"
    }
   ],
   "source": [
    "im_db.bandNames().getInfo()"
   ]
  },
  {
   "cell_type": "code",
   "execution_count": 330,
   "metadata": {},
   "outputs": [
    {
     "data": {
      "text/html": [
       "<img src=\"https://earthengine.googleapis.com/v1alpha/projects/earthengine-legacy/thumbnails/df480aa7f1e694fcff1736083452bd46-23aaca7427ff5c7a88fa1fb65c094530:getPixels\" width=\"800\"/>"
      ],
      "text/plain": [
       "<IPython.core.display.Image object>"
      ]
     },
     "execution_count": 330,
     "metadata": {},
     "output_type": "execute_result"
    }
   ],
   "source": [
    "url = im_db.select('VV').getThumbURL({'min': -20, 'max': 0})\n",
    "disp.Image(url=url, width = 800)"
   ]
  },
  {
   "cell_type": "code",
   "execution_count": 331,
   "metadata": {},
   "outputs": [
    {
     "data": {
      "text/html": [
       "<div style=\"width:100%;\"><div style=\"position:relative;width:100%;height:0;padding-bottom:60%;\"><span style=\"color:#565656\">Make this Notebook Trusted to load map: File -> Trust Notebook</span><iframe src=\"about:blank\" style=\"position:absolute;width:100%;height:100%;left:0;top:0;border:none !important;\" data-html=%3C%21DOCTYPE%20html%3E%0A%3Chead%3E%20%20%20%20%0A%20%20%20%20%3Cmeta%20http-equiv%3D%22content-type%22%20content%3D%22text/html%3B%20charset%3DUTF-8%22%20/%3E%0A%20%20%20%20%0A%20%20%20%20%20%20%20%20%3Cscript%3E%0A%20%20%20%20%20%20%20%20%20%20%20%20L_NO_TOUCH%20%3D%20false%3B%0A%20%20%20%20%20%20%20%20%20%20%20%20L_DISABLE_3D%20%3D%20false%3B%0A%20%20%20%20%20%20%20%20%3C/script%3E%0A%20%20%20%20%0A%20%20%20%20%3Cstyle%3Ehtml%2C%20body%20%7Bwidth%3A%20100%25%3Bheight%3A%20100%25%3Bmargin%3A%200%3Bpadding%3A%200%3B%7D%3C/style%3E%0A%20%20%20%20%3Cstyle%3E%23map%20%7Bposition%3Aabsolute%3Btop%3A0%3Bbottom%3A0%3Bright%3A0%3Bleft%3A0%3B%7D%3C/style%3E%0A%20%20%20%20%3Cscript%20src%3D%22https%3A//cdn.jsdelivr.net/npm/leaflet%401.6.0/dist/leaflet.js%22%3E%3C/script%3E%0A%20%20%20%20%3Cscript%20src%3D%22https%3A//code.jquery.com/jquery-1.12.4.min.js%22%3E%3C/script%3E%0A%20%20%20%20%3Cscript%20src%3D%22https%3A//maxcdn.bootstrapcdn.com/bootstrap/3.2.0/js/bootstrap.min.js%22%3E%3C/script%3E%0A%20%20%20%20%3Cscript%20src%3D%22https%3A//cdnjs.cloudflare.com/ajax/libs/Leaflet.awesome-markers/2.0.2/leaflet.awesome-markers.js%22%3E%3C/script%3E%0A%20%20%20%20%3Clink%20rel%3D%22stylesheet%22%20href%3D%22https%3A//cdn.jsdelivr.net/npm/leaflet%401.6.0/dist/leaflet.css%22/%3E%0A%20%20%20%20%3Clink%20rel%3D%22stylesheet%22%20href%3D%22https%3A//maxcdn.bootstrapcdn.com/bootstrap/3.2.0/css/bootstrap.min.css%22/%3E%0A%20%20%20%20%3Clink%20rel%3D%22stylesheet%22%20href%3D%22https%3A//maxcdn.bootstrapcdn.com/bootstrap/3.2.0/css/bootstrap-theme.min.css%22/%3E%0A%20%20%20%20%3Clink%20rel%3D%22stylesheet%22%20href%3D%22https%3A//maxcdn.bootstrapcdn.com/font-awesome/4.6.3/css/font-awesome.min.css%22/%3E%0A%20%20%20%20%3Clink%20rel%3D%22stylesheet%22%20href%3D%22https%3A//cdnjs.cloudflare.com/ajax/libs/Leaflet.awesome-markers/2.0.2/leaflet.awesome-markers.css%22/%3E%0A%20%20%20%20%3Clink%20rel%3D%22stylesheet%22%20href%3D%22https%3A//cdn.jsdelivr.net/gh/python-visualization/folium/folium/templates/leaflet.awesome.rotate.min.css%22/%3E%0A%20%20%20%20%0A%20%20%20%20%20%20%20%20%20%20%20%20%3Cmeta%20name%3D%22viewport%22%20content%3D%22width%3Ddevice-width%2C%0A%20%20%20%20%20%20%20%20%20%20%20%20%20%20%20%20initial-scale%3D1.0%2C%20maximum-scale%3D1.0%2C%20user-scalable%3Dno%22%20/%3E%0A%20%20%20%20%20%20%20%20%20%20%20%20%3Cstyle%3E%0A%20%20%20%20%20%20%20%20%20%20%20%20%20%20%20%20%23map_6befbdabbfa0468d8f14948e88662631%20%7B%0A%20%20%20%20%20%20%20%20%20%20%20%20%20%20%20%20%20%20%20%20position%3A%20relative%3B%0A%20%20%20%20%20%20%20%20%20%20%20%20%20%20%20%20%20%20%20%20width%3A%20100.0%25%3B%0A%20%20%20%20%20%20%20%20%20%20%20%20%20%20%20%20%20%20%20%20height%3A%20100.0%25%3B%0A%20%20%20%20%20%20%20%20%20%20%20%20%20%20%20%20%20%20%20%20left%3A%200.0%25%3B%0A%20%20%20%20%20%20%20%20%20%20%20%20%20%20%20%20%20%20%20%20top%3A%200.0%25%3B%0A%20%20%20%20%20%20%20%20%20%20%20%20%20%20%20%20%7D%0A%20%20%20%20%20%20%20%20%20%20%20%20%3C/style%3E%0A%20%20%20%20%20%20%20%20%0A%3C/head%3E%0A%3Cbody%3E%20%20%20%20%0A%20%20%20%20%0A%20%20%20%20%20%20%20%20%20%20%20%20%3Cdiv%20class%3D%22folium-map%22%20id%3D%22map_6befbdabbfa0468d8f14948e88662631%22%20%3E%3C/div%3E%0A%20%20%20%20%20%20%20%20%0A%3C/body%3E%0A%3Cscript%3E%20%20%20%20%0A%20%20%20%20%0A%20%20%20%20%20%20%20%20%20%20%20%20var%20map_6befbdabbfa0468d8f14948e88662631%20%3D%20L.map%28%0A%20%20%20%20%20%20%20%20%20%20%20%20%20%20%20%20%22map_6befbdabbfa0468d8f14948e88662631%22%2C%0A%20%20%20%20%20%20%20%20%20%20%20%20%20%20%20%20%7B%0A%20%20%20%20%20%20%20%20%20%20%20%20%20%20%20%20%20%20%20%20center%3A%20%5B8.230586439802158%2C%209.727020263671845%5D%2C%0A%20%20%20%20%20%20%20%20%20%20%20%20%20%20%20%20%20%20%20%20crs%3A%20L.CRS.EPSG3857%2C%0A%20%20%20%20%20%20%20%20%20%20%20%20%20%20%20%20%20%20%20%20zoom%3A%2012%2C%0A%20%20%20%20%20%20%20%20%20%20%20%20%20%20%20%20%20%20%20%20zoomControl%3A%20true%2C%0A%20%20%20%20%20%20%20%20%20%20%20%20%20%20%20%20%20%20%20%20preferCanvas%3A%20false%2C%0A%20%20%20%20%20%20%20%20%20%20%20%20%20%20%20%20%7D%0A%20%20%20%20%20%20%20%20%20%20%20%20%29%3B%0A%0A%20%20%20%20%20%20%20%20%20%20%20%20%0A%0A%20%20%20%20%20%20%20%20%0A%20%20%20%20%0A%20%20%20%20%20%20%20%20%20%20%20%20var%20tile_layer_0943714de9ef46ab8de329759647dafa%20%3D%20L.tileLayer%28%0A%20%20%20%20%20%20%20%20%20%20%20%20%20%20%20%20%22https%3A//%7Bs%7D.tile.openstreetmap.org/%7Bz%7D/%7Bx%7D/%7By%7D.png%22%2C%0A%20%20%20%20%20%20%20%20%20%20%20%20%20%20%20%20%7B%22attribution%22%3A%20%22Data%20by%20%5Cu0026copy%3B%20%5Cu003ca%20href%3D%5C%22http%3A//openstreetmap.org%5C%22%5Cu003eOpenStreetMap%5Cu003c/a%5Cu003e%2C%20under%20%5Cu003ca%20href%3D%5C%22http%3A//www.openstreetmap.org/copyright%5C%22%5Cu003eODbL%5Cu003c/a%5Cu003e.%22%2C%20%22detectRetina%22%3A%20false%2C%20%22maxNativeZoom%22%3A%2018%2C%20%22maxZoom%22%3A%2018%2C%20%22minZoom%22%3A%200%2C%20%22noWrap%22%3A%20false%2C%20%22opacity%22%3A%201%2C%20%22subdomains%22%3A%20%22abc%22%2C%20%22tms%22%3A%20false%7D%0A%20%20%20%20%20%20%20%20%20%20%20%20%29.addTo%28map_6befbdabbfa0468d8f14948e88662631%29%3B%0A%20%20%20%20%20%20%20%20%0A%20%20%20%20%0A%20%20%20%20%20%20%20%20%20%20%20%20var%20tile_layer_9e9d4f94c5cf4825b19ef6670c325480%20%3D%20L.tileLayer%28%0A%20%20%20%20%20%20%20%20%20%20%20%20%20%20%20%20%22https%3A//earthengine.googleapis.com/v1alpha/projects/earthengine-legacy/maps/de90faf268926c28474af2b058968856-7e2af18e5776736e52b22529f5c476e0/tiles/%7Bz%7D/%7Bx%7D/%7By%7D%22%2C%0A%20%20%20%20%20%20%20%20%20%20%20%20%20%20%20%20%7B%22attribution%22%3A%20%22Map%20Data%20%5Cu00a9%20%5Cu003ca%20href%3D%5C%22https%3A//earthengine.google.com/%5C%22%5Cu003eGoogle%20Earth%20Engine%5Cu003c/a%5Cu003e%22%2C%20%22detectRetina%22%3A%20false%2C%20%22maxNativeZoom%22%3A%2018%2C%20%22maxZoom%22%3A%2018%2C%20%22minZoom%22%3A%200%2C%20%22noWrap%22%3A%20false%2C%20%22opacity%22%3A%201%2C%20%22subdomains%22%3A%20%22abc%22%2C%20%22tms%22%3A%20false%7D%0A%20%20%20%20%20%20%20%20%20%20%20%20%29.addTo%28map_6befbdabbfa0468d8f14948e88662631%29%3B%0A%20%20%20%20%20%20%20%20%0A%20%20%20%20%0A%20%20%20%20%20%20%20%20%20%20%20%20var%20layer_control_2f213ae4e6c5457e8407e3a7dd835ce7%20%3D%20%7B%0A%20%20%20%20%20%20%20%20%20%20%20%20%20%20%20%20base_layers%20%3A%20%7B%0A%20%20%20%20%20%20%20%20%20%20%20%20%20%20%20%20%20%20%20%20%22openstreetmap%22%20%3A%20tile_layer_0943714de9ef46ab8de329759647dafa%2C%0A%20%20%20%20%20%20%20%20%20%20%20%20%20%20%20%20%7D%2C%0A%20%20%20%20%20%20%20%20%20%20%20%20%20%20%20%20overlays%20%3A%20%20%7B%0A%20%20%20%20%20%20%20%20%20%20%20%20%20%20%20%20%20%20%20%20%22Ibi%22%20%3A%20tile_layer_9e9d4f94c5cf4825b19ef6670c325480%2C%0A%20%20%20%20%20%20%20%20%20%20%20%20%20%20%20%20%7D%2C%0A%20%20%20%20%20%20%20%20%20%20%20%20%7D%3B%0A%20%20%20%20%20%20%20%20%20%20%20%20L.control.layers%28%0A%20%20%20%20%20%20%20%20%20%20%20%20%20%20%20%20layer_control_2f213ae4e6c5457e8407e3a7dd835ce7.base_layers%2C%0A%20%20%20%20%20%20%20%20%20%20%20%20%20%20%20%20layer_control_2f213ae4e6c5457e8407e3a7dd835ce7.overlays%2C%0A%20%20%20%20%20%20%20%20%20%20%20%20%20%20%20%20%7B%22autoZIndex%22%3A%20true%2C%20%22collapsed%22%3A%20true%2C%20%22position%22%3A%20%22topright%22%7D%0A%20%20%20%20%20%20%20%20%20%20%20%20%29.addTo%28map_6befbdabbfa0468d8f14948e88662631%29%3B%0A%20%20%20%20%20%20%20%20%0A%3C/script%3E onload=\"this.contentDocument.open();this.contentDocument.write(    decodeURIComponent(this.getAttribute('data-html')));this.contentDocument.close();\" allowfullscreen webkitallowfullscreen mozallowfullscreen></iframe></div></div>"
      ],
      "text/plain": [
       "<folium.folium.Map at 0x13af9e850>"
      ]
     },
     "metadata": {},
     "output_type": "display_data"
    }
   ],
   "source": [
    "loc = nigeria_aoi.centroid().coordinates().getInfo()[::-1]\n",
    "\n",
    "rgb = ee.Image.rgb(im_db.select('VV'),\n",
    "                   im_db.select('VH'),\n",
    "                   im_db.select('VV').divide(im_db.select('VH')))\n",
    "\n",
    "m = folium.Map(location=loc, zoom_start=12)\n",
    "\n",
    "m.add_ee_layer(rgb, {'min': [-20, -20, 0], 'max': [0,0,2]}, 'Ibi')\n",
    "m.add_child(folium.LayerControl())\n",
    "display(m)\n"
   ]
  },
  {
   "cell_type": "code",
   "execution_count": 332,
   "metadata": {},
   "outputs": [],
   "source": [
    "nigeria_aoi_sub_no_river = {\n",
    "      \"type\": \"FeatureCollection\",\n",
    "      \"features\": [\n",
    "      {\n",
    "      \"type\": \"Feature\",\n",
    "      \"properties\": {},\n",
    "      \"geometry\": {\n",
    "        \"type\": \"Polygon\",\n",
    "        \"coordinates\": [\n",
    "          [\n",
    "            [\n",
    "              10.104975700378418,\n",
    "              8.101463968254672\n",
    "            ],\n",
    "            [\n",
    "              10.116820335388184,\n",
    "              8.101463968254672\n",
    "            ],\n",
    "            [\n",
    "              10.116820335388184,\n",
    "              8.110343664046091\n",
    "            ],\n",
    "            [\n",
    "              10.104975700378418,\n",
    "              8.110343664046091\n",
    "            ],\n",
    "            [\n",
    "              10.104975700378418,\n",
    "              8.101463968254672\n",
    "            ]\n",
    "          ]\n",
    "        ]\n",
    "      }\n",
    "    }\n",
    "  ]\n",
    "}\n",
    "\n",
    "nigeria_aoi_sub_river = {\n",
    "  \"type\": \"FeatureCollection\",\n",
    "  \"features\": [\n",
    "    {\n",
    "      \"type\": \"Feature\",\n",
    "      \"properties\": {},\n",
    "      \"geometry\": {\n",
    "        \"type\": \"Polygon\",\n",
    "        \"coordinates\": [\n",
    "          [\n",
    "            [\n",
    "              10.101971626281738,\n",
    "              8.101209045864605\n",
    "            ],\n",
    "            [\n",
    "              10.117077827453613,\n",
    "              8.101209045864605\n",
    "            ],\n",
    "            [\n",
    "              10.117077827453613,\n",
    "              8.110513608465158\n",
    "            ],\n",
    "            [\n",
    "              10.101971626281738,\n",
    "              8.110513608465158\n",
    "            ],\n",
    "            [\n",
    "              10.101971626281738,\n",
    "              8.101209045864605\n",
    "            ]\n",
    "          ]\n",
    "        ]\n",
    "      }\n",
    "    }\n",
    "  ]\n",
    "}\n",
    "coords = nigeria_aoi_sub_river['features'][0]['geometry']['coordinates']\n",
    "aoi_sub = ee.Geometry.Polygon(coords)"
   ]
  },
  {
   "cell_type": "code",
   "execution_count": 333,
   "metadata": {},
   "outputs": [],
   "source": [
    "hist = im_fl.select('VV').reduceRegion(\n",
    "    ee.Reducer.fixedHistogram(0, 0.5, 500),\n",
    "    aoi_sub\n",
    ").get('VV').getInfo()\n",
    "\n",
    "mean = im_fl.select('VV').reduceRegion(\n",
    "    ee.Reducer.mean(),\n",
    "    aoi_sub\n",
    ").get('VV').getInfo()\n",
    "\n",
    "variance = im_fl.select('VV').reduceRegion(\n",
    "    ee.Reducer.variance(),\n",
    "    aoi_sub\n",
    ").get('VV').getInfo()"
   ]
  },
  {
   "cell_type": "code",
   "execution_count": 334,
   "metadata": {},
   "outputs": [
    {
     "data": {
      "image/png": "[encoded data removed]",
      "text/plain": [
       "<Figure size 864x504 with 1 Axes>"
      ]
     },
     "metadata": {},
     "output_type": "display_data"
    }
   ],
   "source": [
    "fig,ax = plt.subplots(figsize = (12,7))\n",
    "a = np.array(hist)\n",
    "x = a[:, 0]\n",
    "y = a[:, 1]/np.sum(a[:,1])\n",
    "plt.plot(x,y, '.')\n",
    "plt.show()"
   ]
  },
  {
   "cell_type": "markdown",
   "metadata": {},
   "source": [
    "This supposedly follows a gamma distribution, which takes the form\n",
    "\n",
    "$$\n",
    "p(x; \\alpha, \\beta) = \\frac{1}{\\beta^\\alpha \\Gamma(\\alpha)}x^{\\alpha-1}e^{-x/\\beta}\n",
    "$$\n",
    "\n",
    "where \n",
    "\n",
    "$$\n",
    "\\Gamma(\\alpha) = \\int_0^\\infty z^{\\alpha - 1}e^{-z} dz\n",
    "$$\n",
    "and\n",
    "$$\\mathbb{E}[x] = \\alpha \\beta, \\mathbb{E}[(x - \\mathbb{E}[x])^2] = \\alpha \\beta^2$$\n",
    "\n",
    "yet, we can see that the non-uniformity of the pixels in this area really distort the distribution that we expect to be approximated here: "
   ]
  },
  {
   "cell_type": "code",
   "execution_count": 335,
   "metadata": {},
   "outputs": [
    {
     "data": {
      "image/png": "[encoded data removed]",
      "text/plain": [
       "<Figure size 864x504 with 1 Axes>"
      ]
     },
     "metadata": {},
     "output_type": "display_data"
    }
   ],
   "source": [
    "alpha = 5 # Playing around with this value shows different fits of the gamma distribution\n",
    "beta = mean/alpha\n",
    "\n",
    "fig, ax = plt.subplots(figsize=(12,7))\n",
    "plt.plot(x, y, '.', label='data')\n",
    "plt.plot(x, gamma.pdf(x, alpha, 0, beta)/1000, '-g', label='gamma') # Divide by 1000 since bucket widths of hist data are 0.001\n",
    "plt.legend()\n",
    "plt.show()"
   ]
  },
  {
   "cell_type": "markdown",
   "metadata": {},
   "source": [
    "Let's look at a Sentinel-2 image of the the AOI to see the variation we're dealing with"
   ]
  },
  {
   "cell_type": "code",
   "execution_count": 336,
   "metadata": {},
   "outputs": [],
   "source": [
    "im_s2 = ee.Image(sentinel_2.toList(sentinel_2.size()).get(1)).clip(aoi_sub)"
   ]
  },
  {
   "cell_type": "code",
   "execution_count": 337,
   "metadata": {},
   "outputs": [
    {
     "data": {
      "text/plain": [
       "['B1',\n",
       " 'B2',\n",
       " 'B3',\n",
       " 'B4',\n",
       " 'B5',\n",
       " 'B6',\n",
       " 'B7',\n",
       " 'B8',\n",
       " 'B8A',\n",
       " 'B9',\n",
       " 'B10',\n",
       " 'B11',\n",
       " 'B12',\n",
       " 'QA10',\n",
       " 'QA20',\n",
       " 'QA60']"
      ]
     },
     "execution_count": 337,
     "metadata": {},
     "output_type": "execute_result"
    }
   ],
   "source": [
    "im_s2.bandNames().getInfo()"
   ]
  },
  {
   "cell_type": "code",
   "execution_count": 338,
   "metadata": {},
   "outputs": [
    {
     "data": {
      "text/plain": [
       "'08/03/18'"
      ]
     },
     "execution_count": 338,
     "metadata": {},
     "output_type": "execute_result"
    }
   ],
   "source": [
    "time.strftime(\"%x\", time.gmtime(im_s2.get('system:time_start').getInfo() / 1000))"
   ]
  },
  {
   "cell_type": "code",
   "execution_count": 339,
   "metadata": {},
   "outputs": [
    {
     "data": {
      "text/html": [
       "<div style=\"width:100%;\"><div style=\"position:relative;width:100%;height:0;padding-bottom:60%;\"><span style=\"color:#565656\">Make this Notebook Trusted to load map: File -> Trust Notebook</span><iframe src=\"about:blank\" style=\"position:absolute;width:100%;height:100%;left:0;top:0;border:none !important;\" data-html=%3C%21DOCTYPE%20html%3E%0A%3Chead%3E%20%20%20%20%0A%20%20%20%20%3Cmeta%20http-equiv%3D%22content-type%22%20content%3D%22text/html%3B%20charset%3DUTF-8%22%20/%3E%0A%20%20%20%20%0A%20%20%20%20%20%20%20%20%3Cscript%3E%0A%20%20%20%20%20%20%20%20%20%20%20%20L_NO_TOUCH%20%3D%20false%3B%0A%20%20%20%20%20%20%20%20%20%20%20%20L_DISABLE_3D%20%3D%20false%3B%0A%20%20%20%20%20%20%20%20%3C/script%3E%0A%20%20%20%20%0A%20%20%20%20%3Cstyle%3Ehtml%2C%20body%20%7Bwidth%3A%20100%25%3Bheight%3A%20100%25%3Bmargin%3A%200%3Bpadding%3A%200%3B%7D%3C/style%3E%0A%20%20%20%20%3Cstyle%3E%23map%20%7Bposition%3Aabsolute%3Btop%3A0%3Bbottom%3A0%3Bright%3A0%3Bleft%3A0%3B%7D%3C/style%3E%0A%20%20%20%20%3Cscript%20src%3D%22https%3A//cdn.jsdelivr.net/npm/leaflet%401.6.0/dist/leaflet.js%22%3E%3C/script%3E%0A%20%20%20%20%3Cscript%20src%3D%22https%3A//code.jquery.com/jquery-1.12.4.min.js%22%3E%3C/script%3E%0A%20%20%20%20%3Cscript%20src%3D%22https%3A//maxcdn.bootstrapcdn.com/bootstrap/3.2.0/js/bootstrap.min.js%22%3E%3C/script%3E%0A%20%20%20%20%3Cscript%20src%3D%22https%3A//cdnjs.cloudflare.com/ajax/libs/Leaflet.awesome-markers/2.0.2/leaflet.awesome-markers.js%22%3E%3C/script%3E%0A%20%20%20%20%3Clink%20rel%3D%22stylesheet%22%20href%3D%22https%3A//cdn.jsdelivr.net/npm/leaflet%401.6.0/dist/leaflet.css%22/%3E%0A%20%20%20%20%3Clink%20rel%3D%22stylesheet%22%20href%3D%22https%3A//maxcdn.bootstrapcdn.com/bootstrap/3.2.0/css/bootstrap.min.css%22/%3E%0A%20%20%20%20%3Clink%20rel%3D%22stylesheet%22%20href%3D%22https%3A//maxcdn.bootstrapcdn.com/bootstrap/3.2.0/css/bootstrap-theme.min.css%22/%3E%0A%20%20%20%20%3Clink%20rel%3D%22stylesheet%22%20href%3D%22https%3A//maxcdn.bootstrapcdn.com/font-awesome/4.6.3/css/font-awesome.min.css%22/%3E%0A%20%20%20%20%3Clink%20rel%3D%22stylesheet%22%20href%3D%22https%3A//cdnjs.cloudflare.com/ajax/libs/Leaflet.awesome-markers/2.0.2/leaflet.awesome-markers.css%22/%3E%0A%20%20%20%20%3Clink%20rel%3D%22stylesheet%22%20href%3D%22https%3A//cdn.jsdelivr.net/gh/python-visualization/folium/folium/templates/leaflet.awesome.rotate.min.css%22/%3E%0A%20%20%20%20%0A%20%20%20%20%20%20%20%20%20%20%20%20%3Cmeta%20name%3D%22viewport%22%20content%3D%22width%3Ddevice-width%2C%0A%20%20%20%20%20%20%20%20%20%20%20%20%20%20%20%20initial-scale%3D1.0%2C%20maximum-scale%3D1.0%2C%20user-scalable%3Dno%22%20/%3E%0A%20%20%20%20%20%20%20%20%20%20%20%20%3Cstyle%3E%0A%20%20%20%20%20%20%20%20%20%20%20%20%20%20%20%20%23map_4d0f0a3e72a24e1291a0a72767467421%20%7B%0A%20%20%20%20%20%20%20%20%20%20%20%20%20%20%20%20%20%20%20%20position%3A%20relative%3B%0A%20%20%20%20%20%20%20%20%20%20%20%20%20%20%20%20%20%20%20%20width%3A%20100.0%25%3B%0A%20%20%20%20%20%20%20%20%20%20%20%20%20%20%20%20%20%20%20%20height%3A%20100.0%25%3B%0A%20%20%20%20%20%20%20%20%20%20%20%20%20%20%20%20%20%20%20%20left%3A%200.0%25%3B%0A%20%20%20%20%20%20%20%20%20%20%20%20%20%20%20%20%20%20%20%20top%3A%200.0%25%3B%0A%20%20%20%20%20%20%20%20%20%20%20%20%20%20%20%20%7D%0A%20%20%20%20%20%20%20%20%20%20%20%20%3C/style%3E%0A%20%20%20%20%20%20%20%20%0A%3C/head%3E%0A%3Cbody%3E%20%20%20%20%0A%20%20%20%20%0A%20%20%20%20%20%20%20%20%20%20%20%20%3Cdiv%20class%3D%22folium-map%22%20id%3D%22map_4d0f0a3e72a24e1291a0a72767467421%22%20%3E%3C/div%3E%0A%20%20%20%20%20%20%20%20%0A%3C/body%3E%0A%3Cscript%3E%20%20%20%20%0A%20%20%20%20%0A%20%20%20%20%20%20%20%20%20%20%20%20var%20map_4d0f0a3e72a24e1291a0a72767467421%20%3D%20L.map%28%0A%20%20%20%20%20%20%20%20%20%20%20%20%20%20%20%20%22map_4d0f0a3e72a24e1291a0a72767467421%22%2C%0A%20%20%20%20%20%20%20%20%20%20%20%20%20%20%20%20%7B%0A%20%20%20%20%20%20%20%20%20%20%20%20%20%20%20%20%20%20%20%20center%3A%20%5B8.105861378744338%2C%2010.10952472688378%5D%2C%0A%20%20%20%20%20%20%20%20%20%20%20%20%20%20%20%20%20%20%20%20crs%3A%20L.CRS.EPSG3857%2C%0A%20%20%20%20%20%20%20%20%20%20%20%20%20%20%20%20%20%20%20%20zoom%3A%2012%2C%0A%20%20%20%20%20%20%20%20%20%20%20%20%20%20%20%20%20%20%20%20zoomControl%3A%20true%2C%0A%20%20%20%20%20%20%20%20%20%20%20%20%20%20%20%20%20%20%20%20preferCanvas%3A%20false%2C%0A%20%20%20%20%20%20%20%20%20%20%20%20%20%20%20%20%7D%0A%20%20%20%20%20%20%20%20%20%20%20%20%29%3B%0A%0A%20%20%20%20%20%20%20%20%20%20%20%20%0A%0A%20%20%20%20%20%20%20%20%0A%20%20%20%20%0A%20%20%20%20%20%20%20%20%20%20%20%20var%20tile_layer_541f935e587a4003a8d43aee0fc8a8a6%20%3D%20L.tileLayer%28%0A%20%20%20%20%20%20%20%20%20%20%20%20%20%20%20%20%22https%3A//%7Bs%7D.tile.openstreetmap.org/%7Bz%7D/%7Bx%7D/%7By%7D.png%22%2C%0A%20%20%20%20%20%20%20%20%20%20%20%20%20%20%20%20%7B%22attribution%22%3A%20%22Data%20by%20%5Cu0026copy%3B%20%5Cu003ca%20href%3D%5C%22http%3A//openstreetmap.org%5C%22%5Cu003eOpenStreetMap%5Cu003c/a%5Cu003e%2C%20under%20%5Cu003ca%20href%3D%5C%22http%3A//www.openstreetmap.org/copyright%5C%22%5Cu003eODbL%5Cu003c/a%5Cu003e.%22%2C%20%22detectRetina%22%3A%20false%2C%20%22maxNativeZoom%22%3A%2018%2C%20%22maxZoom%22%3A%2018%2C%20%22minZoom%22%3A%200%2C%20%22noWrap%22%3A%20false%2C%20%22opacity%22%3A%201%2C%20%22subdomains%22%3A%20%22abc%22%2C%20%22tms%22%3A%20false%7D%0A%20%20%20%20%20%20%20%20%20%20%20%20%29.addTo%28map_4d0f0a3e72a24e1291a0a72767467421%29%3B%0A%20%20%20%20%20%20%20%20%0A%20%20%20%20%0A%20%20%20%20%20%20%20%20%20%20%20%20var%20tile_layer_e907bf0af9c64beda4da496c0085b3ff%20%3D%20L.tileLayer%28%0A%20%20%20%20%20%20%20%20%20%20%20%20%20%20%20%20%22https%3A//earthengine.googleapis.com/v1alpha/projects/earthengine-legacy/maps/4a8db0f3e35441d38e2ebd150b7183bd-96b37deb0efd3166e282f5461d3e48ef/tiles/%7Bz%7D/%7Bx%7D/%7By%7D%22%2C%0A%20%20%20%20%20%20%20%20%20%20%20%20%20%20%20%20%7B%22attribution%22%3A%20%22Map%20Data%20%5Cu00a9%20%5Cu003ca%20href%3D%5C%22https%3A//earthengine.google.com/%5C%22%5Cu003eGoogle%20Earth%20Engine%5Cu003c/a%5Cu003e%22%2C%20%22detectRetina%22%3A%20false%2C%20%22maxNativeZoom%22%3A%2018%2C%20%22maxZoom%22%3A%2018%2C%20%22minZoom%22%3A%200%2C%20%22noWrap%22%3A%20false%2C%20%22opacity%22%3A%201%2C%20%22subdomains%22%3A%20%22abc%22%2C%20%22tms%22%3A%20false%7D%0A%20%20%20%20%20%20%20%20%20%20%20%20%29.addTo%28map_4d0f0a3e72a24e1291a0a72767467421%29%3B%0A%20%20%20%20%20%20%20%20%0A%20%20%20%20%0A%20%20%20%20%20%20%20%20%20%20%20%20var%20layer_control_53f5db89b1af433da44a7c3d84f0de40%20%3D%20%7B%0A%20%20%20%20%20%20%20%20%20%20%20%20%20%20%20%20base_layers%20%3A%20%7B%0A%20%20%20%20%20%20%20%20%20%20%20%20%20%20%20%20%20%20%20%20%22openstreetmap%22%20%3A%20tile_layer_541f935e587a4003a8d43aee0fc8a8a6%2C%0A%20%20%20%20%20%20%20%20%20%20%20%20%20%20%20%20%7D%2C%0A%20%20%20%20%20%20%20%20%20%20%20%20%20%20%20%20overlays%20%3A%20%20%7B%0A%20%20%20%20%20%20%20%20%20%20%20%20%20%20%20%20%20%20%20%20%22Bantaji%22%20%3A%20tile_layer_e907bf0af9c64beda4da496c0085b3ff%2C%0A%20%20%20%20%20%20%20%20%20%20%20%20%20%20%20%20%7D%2C%0A%20%20%20%20%20%20%20%20%20%20%20%20%7D%3B%0A%20%20%20%20%20%20%20%20%20%20%20%20L.control.layers%28%0A%20%20%20%20%20%20%20%20%20%20%20%20%20%20%20%20layer_control_53f5db89b1af433da44a7c3d84f0de40.base_layers%2C%0A%20%20%20%20%20%20%20%20%20%20%20%20%20%20%20%20layer_control_53f5db89b1af433da44a7c3d84f0de40.overlays%2C%0A%20%20%20%20%20%20%20%20%20%20%20%20%20%20%20%20%7B%22autoZIndex%22%3A%20true%2C%20%22collapsed%22%3A%20true%2C%20%22position%22%3A%20%22topright%22%7D%0A%20%20%20%20%20%20%20%20%20%20%20%20%29.addTo%28map_4d0f0a3e72a24e1291a0a72767467421%29%3B%0A%20%20%20%20%20%20%20%20%0A%3C/script%3E onload=\"this.contentDocument.open();this.contentDocument.write(    decodeURIComponent(this.getAttribute('data-html')));this.contentDocument.close();\" allowfullscreen webkitallowfullscreen mozallowfullscreen></iframe></div></div>"
      ],
      "text/plain": [
       "<folium.folium.Map at 0x137c70940>"
      ]
     },
     "metadata": {},
     "output_type": "display_data"
    }
   ],
   "source": [
    "loc_sub = aoi_sub.centroid().coordinates().getInfo()[::-1]\n",
    "\n",
    "m = folium.Map(location=loc_sub, zoom_start=12)\n",
    "\n",
    "m.add_ee_layer(im_s2, {'bands': ['B4', 'B3', 'B2'], 'min': 0, 'max': 2500, 'gamma': 1.1}, 'Bantaji')\n",
    "m.add_child(folium.LayerControl())\n",
    "display(m)"
   ]
  },
  {
   "cell_type": "markdown",
   "metadata": {},
   "source": [
    "The cloud cover definitely obscures some of the imagery of the land cover, but we can tell that the land seems to be fairly heterogeneous."
   ]
  },
  {
   "cell_type": "markdown",
   "metadata": {},
   "source": [
    "Each of the pixel values in the Sentinel-1 band we've been using comes from a multi-look image, which are a sum/average of independent pixel value measurements. The intensity of each pixel value follows an exponential distribution, and the sum of *iid* exponential variables follows a gamma distribution. See [this page](https://developers.google.com/earth-engine/tutorials/community/detecting-changes-in-sentinel-1-imagery-pt-1) for a more detailed discussion. Based off of some consequences of the gamma distribution and the fact that the different looks are not independent, but correlated, the following value is equal to the *equivalent number of looks*"
   ]
  },
  {
   "cell_type": "code",
   "execution_count": 340,
   "metadata": {},
   "outputs": [
    {
     "data": {
      "text/plain": [
       "1.296330467561212"
      ]
     },
     "execution_count": 340,
     "metadata": {},
     "output_type": "execute_result"
    }
   ],
   "source": [
    "mean **2 / variance"
   ]
  },
  {
   "cell_type": "markdown",
   "metadata": {},
   "source": [
    "## Part II: Hypothesis testing over two images"
   ]
  },
  {
   "cell_type": "code",
   "execution_count": 341,
   "metadata": {},
   "outputs": [],
   "source": [
    "s1_im_coll = (sentinel_1_fl.filter(ee.Filter.eq('orbitProperties_pass', 'ASCENDING')) # Need local incidence angles to be the same in both images\n",
    "                            .filter(ee.Filter.eq('relativeOrbitNumber_start', 59)) # One of two orbit numbers available\n",
    "                            .sort('system:time_start')\n",
    ")"
   ]
  },
  {
   "cell_type": "code",
   "execution_count": 342,
   "metadata": {},
   "outputs": [
    {
     "name": "stdout",
     "output_type": "stream",
     "text": [
      "['08/01/18', '08/01/18', '08/13/18', '08/13/18', '08/25/18', '08/25/18', '09/06/18', '09/06/18', '09/18/18', '09/18/18', '09/30/18', '09/30/18', '10/12/18', '10/12/18', '10/24/18', '10/24/18']\n"
     ]
    }
   ],
   "source": [
    "acq_times = s1_im_coll.aggregate_array('system:time_start').getInfo()\n",
    "times = [time.strftime('%x', time.gmtime(t/1000)) for t in acq_times]\n",
    "print(times)"
   ]
  },
  {
   "cell_type": "markdown",
   "metadata": {},
   "source": [
    "Recall the flood start and end dates"
   ]
  },
  {
   "cell_type": "code",
   "execution_count": 343,
   "metadata": {},
   "outputs": [
    {
     "data": {
      "text/plain": [
       "[('2018-08-20', '2018-10-02')]"
      ]
     },
     "execution_count": 343,
     "metadata": {},
     "output_type": "execute_result"
    }
   ],
   "source": [
    "flood_dates"
   ]
  },
  {
   "cell_type": "markdown",
   "metadata": {},
   "source": [
    "Select two images: one before and one after the incidence of the flood"
   ]
  },
  {
   "cell_type": "code",
   "execution_count": 344,
   "metadata": {},
   "outputs": [],
   "source": [
    "date_ix_1 = times.index('08/13/18')\n",
    "date_ix_2 = times.index('08/25/18')\n",
    "im_list = s1_im_coll.toList(s1_im_coll.size())\n",
    "im_1 = ee.Image(im_list.get(date_ix_1)).select('VV').clip(aoi_sub)\n",
    "im_2 = ee.Image(im_list.get(date_ix_2)).select('VV').clip(aoi_sub)"
   ]
  },
  {
   "cell_type": "code",
   "execution_count": 345,
   "metadata": {},
   "outputs": [
    {
     "data": {
      "text/html": [
       "<img src=\"https://earthengine.googleapis.com/v1alpha/projects/earthengine-legacy/thumbnails/0a0e8b546962301d7faba58a30202d04-021022022ffc230b6c13d01751892fab:getPixels\" width=\"800\"/>"
      ],
      "text/plain": [
       "<IPython.core.display.Image object>"
      ]
     },
     "execution_count": 345,
     "metadata": {},
     "output_type": "execute_result"
    }
   ],
   "source": [
    "ratio = im_1.divide(im_2)\n",
    "url = ratio.getThumbURL({'min': 0, 'max': 10})\n",
    "disp.Image(url=url, width=800)"
   ]
  },
  {
   "cell_type": "code",
   "execution_count": 346,
   "metadata": {},
   "outputs": [],
   "source": [
    "hist = ratio.reduceRegion(ee.Reducer.fixedHistogram(0, 5, 500), aoi_sub).get('VV').getInfo()\n",
    "mean = ratio.reduceRegion(ee.Reducer.mean(), aoi_sub).get('VV').getInfo()\n",
    "variance = ratio.reduceRegion(ee.Reducer.variance(), aoi_sub).get('VV').getInfo()"
   ]
  },
  {
   "cell_type": "code",
   "execution_count": 347,
   "metadata": {},
   "outputs": [
    {
     "data": {
      "image/png": "[encoded data removed]",
      "text/plain": [
       "<Figure size 864x504 with 1 Axes>"
      ]
     },
     "metadata": {},
     "output_type": "display_data"
    }
   ],
   "source": [
    "fig,ax = plt.subplots(figsize = (12,7))\n",
    "a = np.array(hist)\n",
    "x = a[:, 0]\n",
    "y = a[:, 1]/np.sum(a[:,1])\n",
    "plt.plot(x,y, '.')\n",
    "plt.show()"
   ]
  },
  {
   "cell_type": "markdown",
   "metadata": {},
   "source": [
    "This is actually an *F* distribution, which is defined as the ratio of two chi square distributions or gamma distributions, with $m_1 = 2m$ and $m_2 = 2m$, where $m$ is the degrees of freedom of the original variables. The mean and variance here are given by\n",
    "\n",
    "$$\n",
    "\\mathbb{E}[x] = \\frac{m}{m-1}\\\\\n",
    "\\mathbb{E}[(x - \\mathbb{E}[x])^2] = \\frac{m(2m-1)}{(m-1)^2(m-2)}\n",
    "$$\n",
    "\n",
    "Below we try to verify this empirically, although the data distribution looks right-skewed compared to the *F* distribution. This might be because the AOI we've pulled data from isn't texturally homogeneous."
   ]
  },
  {
   "cell_type": "code",
   "execution_count": 348,
   "metadata": {},
   "outputs": [
    {
     "data": {
      "image/png": "[encoded data removed]",
      "text/plain": [
       "<Figure size 864x504 with 1 Axes>"
      ]
     },
     "metadata": {},
     "output_type": "display_data"
    }
   ],
   "source": [
    "m = 5\n",
    "\n",
    "fig, ax = plt.subplots(figsize = (12,7))\n",
    "plt.plot(x, y, '.', label='data')\n",
    "plt.plot(x, f.pdf(x, 2*m, 2*m)/100, '-g', label='F')\n",
    "plt.legend()\n",
    "plt.show()"
   ]
  },
  {
   "cell_type": "code",
   "execution_count": 349,
   "metadata": {},
   "outputs": [
    {
     "name": "stdout",
     "output_type": "stream",
     "text": [
      "1.6511852298771712 1.25\n",
      "12.565964653845969 0.9375\n"
     ]
    }
   ],
   "source": [
    "print(mean, m/(m-1))\n",
    "print(variance, m*(2*m - 1)/(m-1)**2/(m-2))"
   ]
  },
  {
   "cell_type": "code",
   "execution_count": 350,
   "metadata": {},
   "outputs": [
    {
     "data": {
      "text/html": [
       "<div style=\"width:100%;\"><div style=\"position:relative;width:100%;height:0;padding-bottom:60%;\"><span style=\"color:#565656\">Make this Notebook Trusted to load map: File -> Trust Notebook</span><iframe src=\"about:blank\" style=\"position:absolute;width:100%;height:100%;left:0;top:0;border:none !important;\" data-html=%3C%21DOCTYPE%20html%3E%0A%3Chead%3E%20%20%20%20%0A%20%20%20%20%3Cmeta%20http-equiv%3D%22content-type%22%20content%3D%22text/html%3B%20charset%3DUTF-8%22%20/%3E%0A%20%20%20%20%0A%20%20%20%20%20%20%20%20%3Cscript%3E%0A%20%20%20%20%20%20%20%20%20%20%20%20L_NO_TOUCH%20%3D%20false%3B%0A%20%20%20%20%20%20%20%20%20%20%20%20L_DISABLE_3D%20%3D%20false%3B%0A%20%20%20%20%20%20%20%20%3C/script%3E%0A%20%20%20%20%0A%20%20%20%20%3Cstyle%3Ehtml%2C%20body%20%7Bwidth%3A%20100%25%3Bheight%3A%20100%25%3Bmargin%3A%200%3Bpadding%3A%200%3B%7D%3C/style%3E%0A%20%20%20%20%3Cstyle%3E%23map%20%7Bposition%3Aabsolute%3Btop%3A0%3Bbottom%3A0%3Bright%3A0%3Bleft%3A0%3B%7D%3C/style%3E%0A%20%20%20%20%3Cscript%20src%3D%22https%3A//cdn.jsdelivr.net/npm/leaflet%401.6.0/dist/leaflet.js%22%3E%3C/script%3E%0A%20%20%20%20%3Cscript%20src%3D%22https%3A//code.jquery.com/jquery-1.12.4.min.js%22%3E%3C/script%3E%0A%20%20%20%20%3Cscript%20src%3D%22https%3A//maxcdn.bootstrapcdn.com/bootstrap/3.2.0/js/bootstrap.min.js%22%3E%3C/script%3E%0A%20%20%20%20%3Cscript%20src%3D%22https%3A//cdnjs.cloudflare.com/ajax/libs/Leaflet.awesome-markers/2.0.2/leaflet.awesome-markers.js%22%3E%3C/script%3E%0A%20%20%20%20%3Clink%20rel%3D%22stylesheet%22%20href%3D%22https%3A//cdn.jsdelivr.net/npm/leaflet%401.6.0/dist/leaflet.css%22/%3E%0A%20%20%20%20%3Clink%20rel%3D%22stylesheet%22%20href%3D%22https%3A//maxcdn.bootstrapcdn.com/bootstrap/3.2.0/css/bootstrap.min.css%22/%3E%0A%20%20%20%20%3Clink%20rel%3D%22stylesheet%22%20href%3D%22https%3A//maxcdn.bootstrapcdn.com/bootstrap/3.2.0/css/bootstrap-theme.min.css%22/%3E%0A%20%20%20%20%3Clink%20rel%3D%22stylesheet%22%20href%3D%22https%3A//maxcdn.bootstrapcdn.com/font-awesome/4.6.3/css/font-awesome.min.css%22/%3E%0A%20%20%20%20%3Clink%20rel%3D%22stylesheet%22%20href%3D%22https%3A//cdnjs.cloudflare.com/ajax/libs/Leaflet.awesome-markers/2.0.2/leaflet.awesome-markers.css%22/%3E%0A%20%20%20%20%3Clink%20rel%3D%22stylesheet%22%20href%3D%22https%3A//cdn.jsdelivr.net/gh/python-visualization/folium/folium/templates/leaflet.awesome.rotate.min.css%22/%3E%0A%20%20%20%20%0A%20%20%20%20%20%20%20%20%20%20%20%20%3Cmeta%20name%3D%22viewport%22%20content%3D%22width%3Ddevice-width%2C%0A%20%20%20%20%20%20%20%20%20%20%20%20%20%20%20%20initial-scale%3D1.0%2C%20maximum-scale%3D1.0%2C%20user-scalable%3Dno%22%20/%3E%0A%20%20%20%20%20%20%20%20%20%20%20%20%3Cstyle%3E%0A%20%20%20%20%20%20%20%20%20%20%20%20%20%20%20%20%23map_606549e50a3f47989db309c4fb5e5cb2%20%7B%0A%20%20%20%20%20%20%20%20%20%20%20%20%20%20%20%20%20%20%20%20position%3A%20relative%3B%0A%20%20%20%20%20%20%20%20%20%20%20%20%20%20%20%20%20%20%20%20width%3A%20100.0%25%3B%0A%20%20%20%20%20%20%20%20%20%20%20%20%20%20%20%20%20%20%20%20height%3A%20100.0%25%3B%0A%20%20%20%20%20%20%20%20%20%20%20%20%20%20%20%20%20%20%20%20left%3A%200.0%25%3B%0A%20%20%20%20%20%20%20%20%20%20%20%20%20%20%20%20%20%20%20%20top%3A%200.0%25%3B%0A%20%20%20%20%20%20%20%20%20%20%20%20%20%20%20%20%7D%0A%20%20%20%20%20%20%20%20%20%20%20%20%3C/style%3E%0A%20%20%20%20%20%20%20%20%0A%3C/head%3E%0A%3Cbody%3E%20%20%20%20%0A%20%20%20%20%0A%20%20%20%20%20%20%20%20%20%20%20%20%3Cdiv%20class%3D%22folium-map%22%20id%3D%22map_606549e50a3f47989db309c4fb5e5cb2%22%20%3E%3C/div%3E%0A%20%20%20%20%20%20%20%20%0A%3C/body%3E%0A%3Cscript%3E%20%20%20%20%0A%20%20%20%20%0A%20%20%20%20%20%20%20%20%20%20%20%20var%20map_606549e50a3f47989db309c4fb5e5cb2%20%3D%20L.map%28%0A%20%20%20%20%20%20%20%20%20%20%20%20%20%20%20%20%22map_606549e50a3f47989db309c4fb5e5cb2%22%2C%0A%20%20%20%20%20%20%20%20%20%20%20%20%20%20%20%20%7B%0A%20%20%20%20%20%20%20%20%20%20%20%20%20%20%20%20%20%20%20%20center%3A%20%5B8.230586439802158%2C%209.727020263671845%5D%2C%0A%20%20%20%20%20%20%20%20%20%20%20%20%20%20%20%20%20%20%20%20crs%3A%20L.CRS.EPSG3857%2C%0A%20%20%20%20%20%20%20%20%20%20%20%20%20%20%20%20%20%20%20%20zoom%3A%2010%2C%0A%20%20%20%20%20%20%20%20%20%20%20%20%20%20%20%20%20%20%20%20zoomControl%3A%20true%2C%0A%20%20%20%20%20%20%20%20%20%20%20%20%20%20%20%20%20%20%20%20preferCanvas%3A%20false%2C%0A%20%20%20%20%20%20%20%20%20%20%20%20%20%20%20%20%20%20%20%20zoomeStart%3A%2012%2C%0A%20%20%20%20%20%20%20%20%20%20%20%20%20%20%20%20%7D%0A%20%20%20%20%20%20%20%20%20%20%20%20%29%3B%0A%0A%20%20%20%20%20%20%20%20%20%20%20%20%0A%0A%20%20%20%20%20%20%20%20%0A%20%20%20%20%0A%20%20%20%20%20%20%20%20%20%20%20%20var%20tile_layer_2baec9eed11642968e2d715caba97923%20%3D%20L.tileLayer%28%0A%20%20%20%20%20%20%20%20%20%20%20%20%20%20%20%20%22https%3A//%7Bs%7D.tile.openstreetmap.org/%7Bz%7D/%7Bx%7D/%7By%7D.png%22%2C%0A%20%20%20%20%20%20%20%20%20%20%20%20%20%20%20%20%7B%22attribution%22%3A%20%22Data%20by%20%5Cu0026copy%3B%20%5Cu003ca%20href%3D%5C%22http%3A//openstreetmap.org%5C%22%5Cu003eOpenStreetMap%5Cu003c/a%5Cu003e%2C%20under%20%5Cu003ca%20href%3D%5C%22http%3A//www.openstreetmap.org/copyright%5C%22%5Cu003eODbL%5Cu003c/a%5Cu003e.%22%2C%20%22detectRetina%22%3A%20false%2C%20%22maxNativeZoom%22%3A%2018%2C%20%22maxZoom%22%3A%2018%2C%20%22minZoom%22%3A%200%2C%20%22noWrap%22%3A%20false%2C%20%22opacity%22%3A%201%2C%20%22subdomains%22%3A%20%22abc%22%2C%20%22tms%22%3A%20false%7D%0A%20%20%20%20%20%20%20%20%20%20%20%20%29.addTo%28map_606549e50a3f47989db309c4fb5e5cb2%29%3B%0A%20%20%20%20%20%20%20%20%0A%20%20%20%20%0A%20%20%20%20%20%20%20%20%20%20%20%20var%20tile_layer_274f04a691d445c2b24a6f59d8976036%20%3D%20L.tileLayer%28%0A%20%20%20%20%20%20%20%20%20%20%20%20%20%20%20%20%22https%3A//earthengine.googleapis.com/v1alpha/projects/earthengine-legacy/maps/7cd3719d5e2195fbc902aff2e6e165b8-b07c8d90d2267b504bccfbdc34cf85d8/tiles/%7Bz%7D/%7Bx%7D/%7By%7D%22%2C%0A%20%20%20%20%20%20%20%20%20%20%20%20%20%20%20%20%7B%22attribution%22%3A%20%22Map%20Data%20%5Cu00a9%20%5Cu003ca%20href%3D%5C%22https%3A//earthengine.google.com/%5C%22%5Cu003eGoogle%20Earth%20Engine%5Cu003c/a%5Cu003e%22%2C%20%22detectRetina%22%3A%20false%2C%20%22maxNativeZoom%22%3A%2018%2C%20%22maxZoom%22%3A%2018%2C%20%22minZoom%22%3A%200%2C%20%22noWrap%22%3A%20false%2C%20%22opacity%22%3A%201%2C%20%22subdomains%22%3A%20%22abc%22%2C%20%22tms%22%3A%20false%7D%0A%20%20%20%20%20%20%20%20%20%20%20%20%29.addTo%28map_606549e50a3f47989db309c4fb5e5cb2%29%3B%0A%20%20%20%20%20%20%20%20%0A%20%20%20%20%0A%20%20%20%20%20%20%20%20%20%20%20%20var%20layer_control_04f88558047a407080b9ad816d00348d%20%3D%20%7B%0A%20%20%20%20%20%20%20%20%20%20%20%20%20%20%20%20base_layers%20%3A%20%7B%0A%20%20%20%20%20%20%20%20%20%20%20%20%20%20%20%20%20%20%20%20%22openstreetmap%22%20%3A%20tile_layer_2baec9eed11642968e2d715caba97923%2C%0A%20%20%20%20%20%20%20%20%20%20%20%20%20%20%20%20%7D%2C%0A%20%20%20%20%20%20%20%20%20%20%20%20%20%20%20%20overlays%20%3A%20%20%7B%0A%20%20%20%20%20%20%20%20%20%20%20%20%20%20%20%20%20%20%20%20%22Ratio%22%20%3A%20tile_layer_274f04a691d445c2b24a6f59d8976036%2C%0A%20%20%20%20%20%20%20%20%20%20%20%20%20%20%20%20%7D%2C%0A%20%20%20%20%20%20%20%20%20%20%20%20%7D%3B%0A%20%20%20%20%20%20%20%20%20%20%20%20L.control.layers%28%0A%20%20%20%20%20%20%20%20%20%20%20%20%20%20%20%20layer_control_04f88558047a407080b9ad816d00348d.base_layers%2C%0A%20%20%20%20%20%20%20%20%20%20%20%20%20%20%20%20layer_control_04f88558047a407080b9ad816d00348d.overlays%2C%0A%20%20%20%20%20%20%20%20%20%20%20%20%20%20%20%20%7B%22autoZIndex%22%3A%20true%2C%20%22collapsed%22%3A%20true%2C%20%22position%22%3A%20%22topright%22%7D%0A%20%20%20%20%20%20%20%20%20%20%20%20%29.addTo%28map_606549e50a3f47989db309c4fb5e5cb2%29%3B%0A%20%20%20%20%20%20%20%20%0A%3C/script%3E onload=\"this.contentDocument.open();this.contentDocument.write(    decodeURIComponent(this.getAttribute('data-html')));this.contentDocument.close();\" allowfullscreen webkitallowfullscreen mozallowfullscreen></iframe></div></div>"
      ],
      "text/plain": [
       "<folium.folium.Map at 0x13af50430>"
      ]
     },
     "metadata": {},
     "output_type": "display_data"
    }
   ],
   "source": [
    "mp = folium.Map(location=loc, zoome_start=12)\n",
    "mp.add_ee_layer(ratio,\n",
    "                {'min': 0, 'max': 20, 'palette': ['black', 'white']}, 'Ratio')\n",
    "mp.add_child(folium.LayerControl())\n",
    "\n",
    "display(mp)"
   ]
  },
  {
   "cell_type": "markdown",
   "metadata": {},
   "source": [
    "We can perform a likelihood ratio test between pixels in the two images to determine whether or not there was a statistically significant change in SAR intensities. The intensity bands for the two multi-look images are supposedly distributed as \n",
    "\n",
    "$$\n",
    "s \\sim \\text{Gamma}(\\alpha = m, \\beta = \\frac{a}{m})\\\\\n",
    "m = \\text{number of looks}\n",
    "$$\n",
    "\n",
    "Therefore, the probability densities of the images follows as\n",
    "\n",
    "$$\n",
    "\\mathbb{P}(s_i\\ |\\ a_i) = \\frac{1}{(a_i / m)^m \\Gamma(m)}s_i^{m-1}e^{-s_i m/a_i}\n",
    "$$"
   ]
  },
  {
   "cell_type": "markdown",
   "metadata": {},
   "source": [
    "The null and alternative hypotheses we wish to test are \n",
    "\n",
    "$$\n",
    "\\mathcal{H}_0 : a_1 = a_2 = a\\\\\n",
    "\\mathcal{H}_1 : a_1 \\ne a_2\n",
    "$$"
   ]
  },
  {
   "cell_type": "markdown",
   "metadata": {},
   "source": [
    "The idea of the likelihood ratio test is to compare the ratio of the maximum likelihood of the data under the null hypothesis and the maximum likelihood of the data under the alternative hypothesis. To do so, we must calculate the maximum likelihood estimates for the variables we're testing under the two hypotheses: $a, a_1, a_2$.\n",
    "\n",
    "Under the null hypothesis, the likelihood of getting the measured pixel intensities $s_1, s_2$ is \n",
    "\n",
    "$$\n",
    "L_0(a) = \\mathbb{P}(s_1|a)\\mathbb{P}(s_2|a) = \\frac{1}{(a/m)^2m \\Gamma(m)^2}(s_1s_2)^{m-1}e^{-(s_1 + s_2)m/a}\n",
    "$$\n",
    "\n",
    "We can obtain the MLE $\\hat a$ by finding the value where the derivative is equal to zero.\n",
    "\n",
    "$$\n",
    "\\begin{aligned}\n",
    "\\frac{d L_0(a)}{da} = \\frac{\\bigg[(\\frac{a}{m})^{2m} \\Gamma(m)^2\\bigg] (s_1s_2)^{m-1} \\bigg(\\frac{(s_1 +s_2)m}{a^2}\\bigg)\\exp\\bigg(\\frac{-(s_1 + s_2)m}{a} \\bigg) - (s_1s_2)^{m-1} \\exp \\bigg(\\frac{-(s_1 + s_2)m}{a}\\bigg) \\bigg[2a^{2m-1} \\Gamma(m)^2\\bigg] }{\\bigg((\\frac{a}{m})^4 \\Gamma(m)^4 \\bigg)} &= 0\\\\\n",
    "(s_1s_2)^{m-1}\\exp\\bigg(\\frac{-(s_1 + s_2)m}{a} \\bigg) \\Gamma(m)^2 \\bigg[ \\frac{a^{2m}(s_1 + s_2)m}{m^{2m}a^2} - \\frac{2a^{2m-1}}{m^{2m-1}}\\bigg] &= 0\\\\\n",
    "\\bigg[ \\frac{a^{2m-2}(s_1 + s_2)}{m^{2m-1}} - \\frac{2a^{2m-1}}{m^{2m-1}}\\bigg] &= 0\\\\\n",
    "a^{2m-2}(s_1 + s_2) &= 2a^{2m-1}\\\\\n",
    "\\frac{s_1 + s_2}{2} &= \\hat a\n",
    "\n",
    "\\end{aligned}\n",
    "$$\n",
    "\n",
    "With this MLE, the maximum likelihood becomes:\n",
    "\n",
    "$$\n",
    "L_0(\\hat a) = \\frac{1}{((s_1 + s_2)/2m)^{2m}\\Gamma(m)^2}(s_1s_2)^{m-1}e^{-2m}\n",
    "$$\n",
    "\n",
    "Similarly under the alternative hypothesis, the likelihood of getting the measured pixel intensities $s_1, s_2$ is \n",
    "\n",
    "$$\n",
    "L_1(a_1, a_2) = \\mathbb{P}(s_1|a_1)\\mathbb{P}(s_2|a_2) = \\frac{1}{(a_1/m)^m (a_2/m)^m \\Gamma(m)^2}(s_1s_2)^{m-1}e^{-(s_1)m/a_1}e^{-(s_2)m/a_2}\n",
    "$$\n",
    "\n",
    "We can find the MLEs for $\\hat a_1$ and $\\hat a_2$ through the same method as before, where we'll find $\\hat a_1 = s_1 \\hat a_2 = s_2$. Therefore, the maxmimum likelihood under the alternative hypothesis is\n",
    "$$\n",
    "L_1(\\hat a_1, \\hat a_2) =  \\frac{m^{2m}}{\\Gamma(m)^2}(s_1s_2)e^{-2m}\n",
    "$$"
   ]
  },
  {
   "cell_type": "markdown",
   "metadata": {},
   "source": [
    "The ratio of these two maximum likelihoods becomes our test statistic $Q$:\n",
    "\n",
    "$$\n",
    "Q = \\frac{L_0(\\hat a)}{L_1(\\hat a_1, \\hat a_2)} = \\bigg[2^2 \\bigg( \\frac{s_1 s_2}{(s_1 + s_2)^2} \\bigg)\\bigg]^m \\le k\n",
    "$$\n",
    "\n",
    "This ratio can be simplified to one of\n",
    "\n",
    "$$\n",
    "\\frac{s_1s_2}{(s_1 + s_2)^2} \\le k' \\ \\ \\ \\text{or}\\ \\ \\ \\frac{(s_1 + s_2)^2}{s_1s_2} \\ge k\"\\ \\ \\ \\text{or}\\ \\ \\ \\frac{s_1}{s_2} + \\frac{s_2}{s_1} \\ge k\" - 2\n",
    "$$\n",
    "\n",
    "where the last inequality is satisfied if either term is small enough:\n",
    "\n",
    "$$\n",
    "\\frac{s_1}{s_2} < c_1\\ \\ \\ \\text{or}\\ \\ \\ \\frac{s_2}{s_1} < c_2\n",
    "$$\n",
    "\n",
    "Therefore we can use these terms as LRT statistics. $Q_1 = \\frac{s_1}{s_2}$ can be used to test for a significant increase in intensity between time steps while $Q_2 = \\frac{s_2}{s_1}$ can be used to test for a significant decrease in intensity. From before, the ratio of these two gamma variables follows an $F$ distribution."
   ]
  },
  {
   "cell_type": "code",
   "execution_count": 379,
   "metadata": {},
   "outputs": [
    {
     "data": {
      "text/html": [
       "<div style=\"width:100%;\"><div style=\"position:relative;width:100%;height:0;padding-bottom:60%;\"><span style=\"color:#565656\">Make this Notebook Trusted to load map: File -> Trust Notebook</span><iframe src=\"about:blank\" style=\"position:absolute;width:100%;height:100%;left:0;top:0;border:none !important;\" data-html=%3C%21DOCTYPE%20html%3E%0A%3Chead%3E%20%20%20%20%0A%20%20%20%20%3Cmeta%20http-equiv%3D%22content-type%22%20content%3D%22text/html%3B%20charset%3DUTF-8%22%20/%3E%0A%20%20%20%20%0A%20%20%20%20%20%20%20%20%3Cscript%3E%0A%20%20%20%20%20%20%20%20%20%20%20%20L_NO_TOUCH%20%3D%20false%3B%0A%20%20%20%20%20%20%20%20%20%20%20%20L_DISABLE_3D%20%3D%20false%3B%0A%20%20%20%20%20%20%20%20%3C/script%3E%0A%20%20%20%20%0A%20%20%20%20%3Cstyle%3Ehtml%2C%20body%20%7Bwidth%3A%20100%25%3Bheight%3A%20100%25%3Bmargin%3A%200%3Bpadding%3A%200%3B%7D%3C/style%3E%0A%20%20%20%20%3Cstyle%3E%23map%20%7Bposition%3Aabsolute%3Btop%3A0%3Bbottom%3A0%3Bright%3A0%3Bleft%3A0%3B%7D%3C/style%3E%0A%20%20%20%20%3Cscript%20src%3D%22https%3A//cdn.jsdelivr.net/npm/leaflet%401.6.0/dist/leaflet.js%22%3E%3C/script%3E%0A%20%20%20%20%3Cscript%20src%3D%22https%3A//code.jquery.com/jquery-1.12.4.min.js%22%3E%3C/script%3E%0A%20%20%20%20%3Cscript%20src%3D%22https%3A//maxcdn.bootstrapcdn.com/bootstrap/3.2.0/js/bootstrap.min.js%22%3E%3C/script%3E%0A%20%20%20%20%3Cscript%20src%3D%22https%3A//cdnjs.cloudflare.com/ajax/libs/Leaflet.awesome-markers/2.0.2/leaflet.awesome-markers.js%22%3E%3C/script%3E%0A%20%20%20%20%3Clink%20rel%3D%22stylesheet%22%20href%3D%22https%3A//cdn.jsdelivr.net/npm/leaflet%401.6.0/dist/leaflet.css%22/%3E%0A%20%20%20%20%3Clink%20rel%3D%22stylesheet%22%20href%3D%22https%3A//maxcdn.bootstrapcdn.com/bootstrap/3.2.0/css/bootstrap.min.css%22/%3E%0A%20%20%20%20%3Clink%20rel%3D%22stylesheet%22%20href%3D%22https%3A//maxcdn.bootstrapcdn.com/bootstrap/3.2.0/css/bootstrap-theme.min.css%22/%3E%0A%20%20%20%20%3Clink%20rel%3D%22stylesheet%22%20href%3D%22https%3A//maxcdn.bootstrapcdn.com/font-awesome/4.6.3/css/font-awesome.min.css%22/%3E%0A%20%20%20%20%3Clink%20rel%3D%22stylesheet%22%20href%3D%22https%3A//cdnjs.cloudflare.com/ajax/libs/Leaflet.awesome-markers/2.0.2/leaflet.awesome-markers.css%22/%3E%0A%20%20%20%20%3Clink%20rel%3D%22stylesheet%22%20href%3D%22https%3A//cdn.jsdelivr.net/gh/python-visualization/folium/folium/templates/leaflet.awesome.rotate.min.css%22/%3E%0A%20%20%20%20%0A%20%20%20%20%20%20%20%20%20%20%20%20%3Cmeta%20name%3D%22viewport%22%20content%3D%22width%3Ddevice-width%2C%0A%20%20%20%20%20%20%20%20%20%20%20%20%20%20%20%20initial-scale%3D1.0%2C%20maximum-scale%3D1.0%2C%20user-scalable%3Dno%22%20/%3E%0A%20%20%20%20%20%20%20%20%20%20%20%20%3Cstyle%3E%0A%20%20%20%20%20%20%20%20%20%20%20%20%20%20%20%20%23map_20c8422a174c4e558472a452327dc971%20%7B%0A%20%20%20%20%20%20%20%20%20%20%20%20%20%20%20%20%20%20%20%20position%3A%20relative%3B%0A%20%20%20%20%20%20%20%20%20%20%20%20%20%20%20%20%20%20%20%20width%3A%20100.0%25%3B%0A%20%20%20%20%20%20%20%20%20%20%20%20%20%20%20%20%20%20%20%20height%3A%20100.0%25%3B%0A%20%20%20%20%20%20%20%20%20%20%20%20%20%20%20%20%20%20%20%20left%3A%200.0%25%3B%0A%20%20%20%20%20%20%20%20%20%20%20%20%20%20%20%20%20%20%20%20top%3A%200.0%25%3B%0A%20%20%20%20%20%20%20%20%20%20%20%20%20%20%20%20%7D%0A%20%20%20%20%20%20%20%20%20%20%20%20%3C/style%3E%0A%20%20%20%20%20%20%20%20%0A%3C/head%3E%0A%3Cbody%3E%20%20%20%20%0A%20%20%20%20%0A%20%20%20%20%20%20%20%20%20%20%20%20%3Cdiv%20class%3D%22folium-map%22%20id%3D%22map_20c8422a174c4e558472a452327dc971%22%20%3E%3C/div%3E%0A%20%20%20%20%20%20%20%20%0A%3C/body%3E%0A%3Cscript%3E%20%20%20%20%0A%20%20%20%20%0A%20%20%20%20%20%20%20%20%20%20%20%20var%20map_20c8422a174c4e558472a452327dc971%20%3D%20L.map%28%0A%20%20%20%20%20%20%20%20%20%20%20%20%20%20%20%20%22map_20c8422a174c4e558472a452327dc971%22%2C%0A%20%20%20%20%20%20%20%20%20%20%20%20%20%20%20%20%7B%0A%20%20%20%20%20%20%20%20%20%20%20%20%20%20%20%20%20%20%20%20center%3A%20%5B8.105861378744338%2C%2010.10952472688378%5D%2C%0A%20%20%20%20%20%20%20%20%20%20%20%20%20%20%20%20%20%20%20%20crs%3A%20L.CRS.EPSG3857%2C%0A%20%20%20%20%20%20%20%20%20%20%20%20%20%20%20%20%20%20%20%20zoom%3A%2013%2C%0A%20%20%20%20%20%20%20%20%20%20%20%20%20%20%20%20%20%20%20%20zoomControl%3A%20true%2C%0A%20%20%20%20%20%20%20%20%20%20%20%20%20%20%20%20%20%20%20%20preferCanvas%3A%20false%2C%0A%20%20%20%20%20%20%20%20%20%20%20%20%20%20%20%20%7D%0A%20%20%20%20%20%20%20%20%20%20%20%20%29%3B%0A%0A%20%20%20%20%20%20%20%20%20%20%20%20%0A%0A%20%20%20%20%20%20%20%20%0A%20%20%20%20%0A%20%20%20%20%20%20%20%20%20%20%20%20var%20tile_layer_7db96a7d7fc34dbfa7a700dee037ce80%20%3D%20L.tileLayer%28%0A%20%20%20%20%20%20%20%20%20%20%20%20%20%20%20%20%22https%3A//%7Bs%7D.tile.openstreetmap.org/%7Bz%7D/%7Bx%7D/%7By%7D.png%22%2C%0A%20%20%20%20%20%20%20%20%20%20%20%20%20%20%20%20%7B%22attribution%22%3A%20%22Data%20by%20%5Cu0026copy%3B%20%5Cu003ca%20href%3D%5C%22http%3A//openstreetmap.org%5C%22%5Cu003eOpenStreetMap%5Cu003c/a%5Cu003e%2C%20under%20%5Cu003ca%20href%3D%5C%22http%3A//www.openstreetmap.org/copyright%5C%22%5Cu003eODbL%5Cu003c/a%5Cu003e.%22%2C%20%22detectRetina%22%3A%20false%2C%20%22maxNativeZoom%22%3A%2018%2C%20%22maxZoom%22%3A%2018%2C%20%22minZoom%22%3A%200%2C%20%22noWrap%22%3A%20false%2C%20%22opacity%22%3A%201%2C%20%22subdomains%22%3A%20%22abc%22%2C%20%22tms%22%3A%20false%7D%0A%20%20%20%20%20%20%20%20%20%20%20%20%29.addTo%28map_20c8422a174c4e558472a452327dc971%29%3B%0A%20%20%20%20%20%20%20%20%0A%20%20%20%20%0A%20%20%20%20%20%20%20%20%20%20%20%20var%20tile_layer_3224a06890a8441b8b7a4a2374618190%20%3D%20L.tileLayer%28%0A%20%20%20%20%20%20%20%20%20%20%20%20%20%20%20%20%22https%3A//earthengine.googleapis.com/v1alpha/projects/earthengine-legacy/maps/ed21e5111aad2394a23640a2cfc8677c-3558ff5bb183ba48046d1d10eaffc58d/tiles/%7Bz%7D/%7Bx%7D/%7By%7D%22%2C%0A%20%20%20%20%20%20%20%20%20%20%20%20%20%20%20%20%7B%22attribution%22%3A%20%22Map%20Data%20%5Cu00a9%20%5Cu003ca%20href%3D%5C%22https%3A//earthengine.google.com/%5C%22%5Cu003eGoogle%20Earth%20Engine%5Cu003c/a%5Cu003e%22%2C%20%22detectRetina%22%3A%20false%2C%20%22maxNativeZoom%22%3A%2018%2C%20%22maxZoom%22%3A%2018%2C%20%22minZoom%22%3A%200%2C%20%22noWrap%22%3A%20false%2C%20%22opacity%22%3A%201%2C%20%22subdomains%22%3A%20%22abc%22%2C%20%22tms%22%3A%20false%7D%0A%20%20%20%20%20%20%20%20%20%20%20%20%29.addTo%28map_20c8422a174c4e558472a452327dc971%29%3B%0A%20%20%20%20%20%20%20%20%0A%20%20%20%20%0A%20%20%20%20%20%20%20%20%20%20%20%20var%20tile_layer_a9126966209f4f7eb0b247a111383e81%20%3D%20L.tileLayer%28%0A%20%20%20%20%20%20%20%20%20%20%20%20%20%20%20%20%22https%3A//earthengine.googleapis.com/v1alpha/projects/earthengine-legacy/maps/95478a56d29ee8daaae186698dde624d-e8e33bc788b6af7d83206110b2d0f79f/tiles/%7Bz%7D/%7Bx%7D/%7By%7D%22%2C%0A%20%20%20%20%20%20%20%20%20%20%20%20%20%20%20%20%7B%22attribution%22%3A%20%22Map%20Data%20%5Cu00a9%20%5Cu003ca%20href%3D%5C%22https%3A//earthengine.google.com/%5C%22%5Cu003eGoogle%20Earth%20Engine%5Cu003c/a%5Cu003e%22%2C%20%22detectRetina%22%3A%20false%2C%20%22maxNativeZoom%22%3A%2018%2C%20%22maxZoom%22%3A%2018%2C%20%22minZoom%22%3A%200%2C%20%22noWrap%22%3A%20false%2C%20%22opacity%22%3A%201%2C%20%22subdomains%22%3A%20%22abc%22%2C%20%22tms%22%3A%20false%7D%0A%20%20%20%20%20%20%20%20%20%20%20%20%29.addTo%28map_20c8422a174c4e558472a452327dc971%29%3B%0A%20%20%20%20%20%20%20%20%0A%20%20%20%20%0A%20%20%20%20%20%20%20%20%20%20%20%20var%20tile_layer_988837bf435e47bfa3f7b3d7a89d2a00%20%3D%20L.tileLayer%28%0A%20%20%20%20%20%20%20%20%20%20%20%20%20%20%20%20%22https%3A//earthengine.googleapis.com/v1alpha/projects/earthengine-legacy/maps/e0089402b33809aa911eb475ea72f833-479a01843c0e45a1dabc74ee01879320/tiles/%7Bz%7D/%7Bx%7D/%7By%7D%22%2C%0A%20%20%20%20%20%20%20%20%20%20%20%20%20%20%20%20%7B%22attribution%22%3A%20%22Map%20Data%20%5Cu00a9%20%5Cu003ca%20href%3D%5C%22https%3A//earthengine.google.com/%5C%22%5Cu003eGoogle%20Earth%20Engine%5Cu003c/a%5Cu003e%22%2C%20%22detectRetina%22%3A%20false%2C%20%22maxNativeZoom%22%3A%2018%2C%20%22maxZoom%22%3A%2018%2C%20%22minZoom%22%3A%200%2C%20%22noWrap%22%3A%20false%2C%20%22opacity%22%3A%201%2C%20%22subdomains%22%3A%20%22abc%22%2C%20%22tms%22%3A%20false%7D%0A%20%20%20%20%20%20%20%20%20%20%20%20%29.addTo%28map_20c8422a174c4e558472a452327dc971%29%3B%0A%20%20%20%20%20%20%20%20%0A%20%20%20%20%0A%20%20%20%20%20%20%20%20%20%20%20%20var%20layer_control_68ebb53748344b518102b05e153486ee%20%3D%20%7B%0A%20%20%20%20%20%20%20%20%20%20%20%20%20%20%20%20base_layers%20%3A%20%7B%0A%20%20%20%20%20%20%20%20%20%20%20%20%20%20%20%20%20%20%20%20%22openstreetmap%22%20%3A%20tile_layer_7db96a7d7fc34dbfa7a700dee037ce80%2C%0A%20%20%20%20%20%20%20%20%20%20%20%20%20%20%20%20%7D%2C%0A%20%20%20%20%20%20%20%20%20%20%20%20%20%20%20%20overlays%20%3A%20%20%7B%0A%20%20%20%20%20%20%20%20%20%20%20%20%20%20%20%20%20%20%20%20%22Bantaji%20Sentinel-2%22%20%3A%20tile_layer_3224a06890a8441b8b7a4a2374618190%2C%0A%20%20%20%20%20%20%20%20%20%20%20%20%20%20%20%20%20%20%20%20%22Ratio%22%20%3A%20tile_layer_a9126966209f4f7eb0b247a111383e81%2C%0A%20%20%20%20%20%20%20%20%20%20%20%20%20%20%20%20%20%20%20%20%22Change%20map%22%20%3A%20tile_layer_988837bf435e47bfa3f7b3d7a89d2a00%2C%0A%20%20%20%20%20%20%20%20%20%20%20%20%20%20%20%20%7D%2C%0A%20%20%20%20%20%20%20%20%20%20%20%20%7D%3B%0A%20%20%20%20%20%20%20%20%20%20%20%20L.control.layers%28%0A%20%20%20%20%20%20%20%20%20%20%20%20%20%20%20%20layer_control_68ebb53748344b518102b05e153486ee.base_layers%2C%0A%20%20%20%20%20%20%20%20%20%20%20%20%20%20%20%20layer_control_68ebb53748344b518102b05e153486ee.overlays%2C%0A%20%20%20%20%20%20%20%20%20%20%20%20%20%20%20%20%7B%22autoZIndex%22%3A%20true%2C%20%22collapsed%22%3A%20true%2C%20%22position%22%3A%20%22topright%22%7D%0A%20%20%20%20%20%20%20%20%20%20%20%20%29.addTo%28map_20c8422a174c4e558472a452327dc971%29%3B%0A%20%20%20%20%20%20%20%20%0A%3C/script%3E onload=\"this.contentDocument.open();this.contentDocument.write(    decodeURIComponent(this.getAttribute('data-html')));this.contentDocument.close();\" allowfullscreen webkitallowfullscreen mozallowfullscreen></iframe></div></div>"
      ],
      "text/plain": [
       "<folium.folium.Map at 0x138094280>"
      ]
     },
     "metadata": {},
     "output_type": "display_data"
    }
   ],
   "source": [
    "alpha = .01\n",
    "dt = f.ppf(alpha/2, 2*m, 2*m)\n",
    "\n",
    "q1 = im_1.divide(im_2)\n",
    "q2 = im_2.divide(im_1)\n",
    "\n",
    "\"\"\"Here's a change map, where 0 = no change, 1 = decrease, 2 = increase in intensity\"\"\"\n",
    "c_map = im_1.multiply(0).where(q2.lt(dt), 1)\n",
    "c_map = c_map.where(q1.lt(dt), 2)\n",
    "\n",
    "\"\"\"Mask no-change pixels\"\"\"\n",
    "c_map = c_map.updateMask(c_map.gt(0))\n",
    "\n",
    "\"\"\"Display map with red for increase in intensity and blue for decrease in intensity\"\"\"\n",
    "mp = folium.Map(location=loc_sub, zoom_start=13)\n",
    "\n",
    "mp.add_ee_layer(im_s2, {'bands': ['B4', 'B3', 'B2'], 'min': 0, 'max': 2500, 'gamma': 1.1}, 'Bantaji Sentinel-2')\n",
    "mp.add_ee_layer(ratio,\n",
    "                {'min': 0, 'max': 20, 'palette': ['black', 'white']}, 'Ratio')\n",
    "\n",
    "mp.add_ee_layer(c_map,\n",
    "                {'min': 0, 'max': 2, 'palette': ['black', 'blue', 'red']}, 'Change map')\n",
    "\n",
    "mp.add_child(folium.LayerControl())\n",
    "\n",
    "display(mp)"
   ]
  },
  {
   "cell_type": "markdown",
   "metadata": {},
   "source": [
    "We can extend this analysis to use both the VV and VH bands of the Sentinel-1 imagery with a new LRT statistic that compares the maximum likelihoods of the product of four gamma distributions (one for each image times one for each band):\n",
    "\n",
    "$$\n",
    "Q = \\frac{L_0(\\hat a, \\hat b)}{L_1(\\hat a_1, \\hat b_1, \\hat a_2, \\hat b_2)} = \\frac{2^4 (s_1 r_1 s_2 r_2)^m}{(s_1 + s_2)^{2m}(r_1 + r_2)^{2m}}\n",
    "$$\n",
    "\n",
    "If we represent the bands $s$ and $r$ in the form of a covariance matrix $c$, we can rewrite this statistic in terms of the determinants of $c_i$:\n",
    "\n",
    "$$\n",
    "c_i = \\begin{pmatrix}s_i & 0\\\\0 & r_i \\end{pmatrix}\n",
    "$$\n",
    "\n",
    "$$\n",
    "Q = \\bigg[2^4 \\bigg(\\frac{|c_1| |c_2|}{|c_1 + c_2|^2} \\bigg) \\bigg]^m \\le k\n",
    "$$\n",
    "\n",
    "According to Wilks' Theorem, $-2\\log Q$ approaches a chi-square distribution with $d - d_0 = 2$ degrees of freedom.\n",
    "\n",
    "$$\n",
    "-2 \\log Q = (\\log|c_1| + \\log |c_2| -2 \\log |c_1 + c_2| + 4 \\log 2)(-2m)\n",
    "$$\n",
    "\n",
    "We'll see below if this is the case"
   ]
  },
  {
   "cell_type": "code",
   "execution_count": 355,
   "metadata": {},
   "outputs": [],
   "source": [
    "def det(im):\n",
    "    return im.expression('b(0) * b(1)')\n",
    "\n",
    "\"\"\"Number of looks\"\"\"\n",
    "m = 5\n",
    "\n",
    "im_1_bivariate = ee.Image(im_list.get(date_ix_1)).select('VV', 'VH').clip(aoi_sub)\n",
    "im_2_bivariate = ee.Image(im_list.get(date_ix_2)).select('VV', 'VH').clip(aoi_sub)\n",
    "\n",
    "m2logQ = det(im_1_bivariate).log().add(det(im_2_bivariate).log()).subtract(\n",
    "    det(im_1_bivariate.add(im_2_bivariate)).log().multiply(2)\n",
    ").add(4*np.log(2)).multiply(-2*m)"
   ]
  },
  {
   "cell_type": "code",
   "execution_count": 359,
   "metadata": {},
   "outputs": [
    {
     "data": {
      "image/png": "[encoded data removed]",
      "text/plain": [
       "<Figure size 864x504 with 1 Axes>"
      ]
     },
     "metadata": {},
     "output_type": "display_data"
    }
   ],
   "source": [
    "hist = m2logQ.reduceRegion(\n",
    "    ee.Reducer.fixedHistogram(0, 20, 20), aoi_sub).get('VV').getInfo()\n",
    "\n",
    "a = np.array(hist)\n",
    "x = a[:, 0]\n",
    "y = a[:, 1] / np.sum(a[:, 1])\n",
    "\n",
    "fig, ax = plt.subplots(figsize = (12,7))\n",
    "plt.plot(x, y, '.', label='data')\n",
    "plt.plot(x, chi2.pdf(x, 2), '-r', label='chi square')\n",
    "plt.legend()\n",
    "plt.show()"
   ]
  },
  {
   "cell_type": "markdown",
   "metadata": {},
   "source": [
    "A decent fit, with some deviation probably due to the same texture issues as before. Let's plot the CDF of the chi-square distribution over the scene to visualize the p-values."
   ]
  },
  {
   "cell_type": "code",
   "execution_count": 367,
   "metadata": {},
   "outputs": [
    {
     "data": {
      "text/html": [
       "<div style=\"width:100%;\"><div style=\"position:relative;width:100%;height:0;padding-bottom:60%;\"><span style=\"color:#565656\">Make this Notebook Trusted to load map: File -> Trust Notebook</span><iframe src=\"about:blank\" style=\"position:absolute;width:100%;height:100%;left:0;top:0;border:none !important;\" data-html=%3C%21DOCTYPE%20html%3E%0A%3Chead%3E%20%20%20%20%0A%20%20%20%20%3Cmeta%20http-equiv%3D%22content-type%22%20content%3D%22text/html%3B%20charset%3DUTF-8%22%20/%3E%0A%20%20%20%20%0A%20%20%20%20%20%20%20%20%3Cscript%3E%0A%20%20%20%20%20%20%20%20%20%20%20%20L_NO_TOUCH%20%3D%20false%3B%0A%20%20%20%20%20%20%20%20%20%20%20%20L_DISABLE_3D%20%3D%20false%3B%0A%20%20%20%20%20%20%20%20%3C/script%3E%0A%20%20%20%20%0A%20%20%20%20%3Cstyle%3Ehtml%2C%20body%20%7Bwidth%3A%20100%25%3Bheight%3A%20100%25%3Bmargin%3A%200%3Bpadding%3A%200%3B%7D%3C/style%3E%0A%20%20%20%20%3Cstyle%3E%23map%20%7Bposition%3Aabsolute%3Btop%3A0%3Bbottom%3A0%3Bright%3A0%3Bleft%3A0%3B%7D%3C/style%3E%0A%20%20%20%20%3Cscript%20src%3D%22https%3A//cdn.jsdelivr.net/npm/leaflet%401.6.0/dist/leaflet.js%22%3E%3C/script%3E%0A%20%20%20%20%3Cscript%20src%3D%22https%3A//code.jquery.com/jquery-1.12.4.min.js%22%3E%3C/script%3E%0A%20%20%20%20%3Cscript%20src%3D%22https%3A//maxcdn.bootstrapcdn.com/bootstrap/3.2.0/js/bootstrap.min.js%22%3E%3C/script%3E%0A%20%20%20%20%3Cscript%20src%3D%22https%3A//cdnjs.cloudflare.com/ajax/libs/Leaflet.awesome-markers/2.0.2/leaflet.awesome-markers.js%22%3E%3C/script%3E%0A%20%20%20%20%3Clink%20rel%3D%22stylesheet%22%20href%3D%22https%3A//cdn.jsdelivr.net/npm/leaflet%401.6.0/dist/leaflet.css%22/%3E%0A%20%20%20%20%3Clink%20rel%3D%22stylesheet%22%20href%3D%22https%3A//maxcdn.bootstrapcdn.com/bootstrap/3.2.0/css/bootstrap.min.css%22/%3E%0A%20%20%20%20%3Clink%20rel%3D%22stylesheet%22%20href%3D%22https%3A//maxcdn.bootstrapcdn.com/bootstrap/3.2.0/css/bootstrap-theme.min.css%22/%3E%0A%20%20%20%20%3Clink%20rel%3D%22stylesheet%22%20href%3D%22https%3A//maxcdn.bootstrapcdn.com/font-awesome/4.6.3/css/font-awesome.min.css%22/%3E%0A%20%20%20%20%3Clink%20rel%3D%22stylesheet%22%20href%3D%22https%3A//cdnjs.cloudflare.com/ajax/libs/Leaflet.awesome-markers/2.0.2/leaflet.awesome-markers.css%22/%3E%0A%20%20%20%20%3Clink%20rel%3D%22stylesheet%22%20href%3D%22https%3A//cdn.jsdelivr.net/gh/python-visualization/folium/folium/templates/leaflet.awesome.rotate.min.css%22/%3E%0A%20%20%20%20%0A%20%20%20%20%20%20%20%20%20%20%20%20%3Cmeta%20name%3D%22viewport%22%20content%3D%22width%3Ddevice-width%2C%0A%20%20%20%20%20%20%20%20%20%20%20%20%20%20%20%20initial-scale%3D1.0%2C%20maximum-scale%3D1.0%2C%20user-scalable%3Dno%22%20/%3E%0A%20%20%20%20%20%20%20%20%20%20%20%20%3Cstyle%3E%0A%20%20%20%20%20%20%20%20%20%20%20%20%20%20%20%20%23map_db3a33a4cc2c43af8559dbd6d4fa7a66%20%7B%0A%20%20%20%20%20%20%20%20%20%20%20%20%20%20%20%20%20%20%20%20position%3A%20relative%3B%0A%20%20%20%20%20%20%20%20%20%20%20%20%20%20%20%20%20%20%20%20width%3A%20100.0%25%3B%0A%20%20%20%20%20%20%20%20%20%20%20%20%20%20%20%20%20%20%20%20height%3A%20100.0%25%3B%0A%20%20%20%20%20%20%20%20%20%20%20%20%20%20%20%20%20%20%20%20left%3A%200.0%25%3B%0A%20%20%20%20%20%20%20%20%20%20%20%20%20%20%20%20%20%20%20%20top%3A%200.0%25%3B%0A%20%20%20%20%20%20%20%20%20%20%20%20%20%20%20%20%7D%0A%20%20%20%20%20%20%20%20%20%20%20%20%3C/style%3E%0A%20%20%20%20%20%20%20%20%0A%3C/head%3E%0A%3Cbody%3E%20%20%20%20%0A%20%20%20%20%0A%20%20%20%20%20%20%20%20%20%20%20%20%3Cdiv%20class%3D%22folium-map%22%20id%3D%22map_db3a33a4cc2c43af8559dbd6d4fa7a66%22%20%3E%3C/div%3E%0A%20%20%20%20%20%20%20%20%0A%3C/body%3E%0A%3Cscript%3E%20%20%20%20%0A%20%20%20%20%0A%20%20%20%20%20%20%20%20%20%20%20%20var%20map_db3a33a4cc2c43af8559dbd6d4fa7a66%20%3D%20L.map%28%0A%20%20%20%20%20%20%20%20%20%20%20%20%20%20%20%20%22map_db3a33a4cc2c43af8559dbd6d4fa7a66%22%2C%0A%20%20%20%20%20%20%20%20%20%20%20%20%20%20%20%20%7B%0A%20%20%20%20%20%20%20%20%20%20%20%20%20%20%20%20%20%20%20%20center%3A%20%5B8.105861378744338%2C%2010.10952472688378%5D%2C%0A%20%20%20%20%20%20%20%20%20%20%20%20%20%20%20%20%20%20%20%20crs%3A%20L.CRS.EPSG3857%2C%0A%20%20%20%20%20%20%20%20%20%20%20%20%20%20%20%20%20%20%20%20zoom%3A%2013%2C%0A%20%20%20%20%20%20%20%20%20%20%20%20%20%20%20%20%20%20%20%20zoomControl%3A%20true%2C%0A%20%20%20%20%20%20%20%20%20%20%20%20%20%20%20%20%20%20%20%20preferCanvas%3A%20false%2C%0A%20%20%20%20%20%20%20%20%20%20%20%20%20%20%20%20%7D%0A%20%20%20%20%20%20%20%20%20%20%20%20%29%3B%0A%0A%20%20%20%20%20%20%20%20%20%20%20%20%0A%0A%20%20%20%20%20%20%20%20%0A%20%20%20%20%0A%20%20%20%20%20%20%20%20%20%20%20%20var%20tile_layer_f32a05bff9fe43e09e4c6e23c3e351c3%20%3D%20L.tileLayer%28%0A%20%20%20%20%20%20%20%20%20%20%20%20%20%20%20%20%22https%3A//%7Bs%7D.tile.openstreetmap.org/%7Bz%7D/%7Bx%7D/%7By%7D.png%22%2C%0A%20%20%20%20%20%20%20%20%20%20%20%20%20%20%20%20%7B%22attribution%22%3A%20%22Data%20by%20%5Cu0026copy%3B%20%5Cu003ca%20href%3D%5C%22http%3A//openstreetmap.org%5C%22%5Cu003eOpenStreetMap%5Cu003c/a%5Cu003e%2C%20under%20%5Cu003ca%20href%3D%5C%22http%3A//www.openstreetmap.org/copyright%5C%22%5Cu003eODbL%5Cu003c/a%5Cu003e.%22%2C%20%22detectRetina%22%3A%20false%2C%20%22maxNativeZoom%22%3A%2018%2C%20%22maxZoom%22%3A%2018%2C%20%22minZoom%22%3A%200%2C%20%22noWrap%22%3A%20false%2C%20%22opacity%22%3A%201%2C%20%22subdomains%22%3A%20%22abc%22%2C%20%22tms%22%3A%20false%7D%0A%20%20%20%20%20%20%20%20%20%20%20%20%29.addTo%28map_db3a33a4cc2c43af8559dbd6d4fa7a66%29%3B%0A%20%20%20%20%20%20%20%20%0A%20%20%20%20%0A%20%20%20%20%20%20%20%20%20%20%20%20var%20tile_layer_c72a8c3ce42d4d59bba357533262a0e5%20%3D%20L.tileLayer%28%0A%20%20%20%20%20%20%20%20%20%20%20%20%20%20%20%20%22https%3A//earthengine.googleapis.com/v1alpha/projects/earthengine-legacy/maps/d17e911f8df3f9ef787a1458f38df689-1deecb299ccd80897e72016895a0cde0/tiles/%7Bz%7D/%7Bx%7D/%7By%7D%22%2C%0A%20%20%20%20%20%20%20%20%20%20%20%20%20%20%20%20%7B%22attribution%22%3A%20%22Map%20Data%20%5Cu00a9%20%5Cu003ca%20href%3D%5C%22https%3A//earthengine.google.com/%5C%22%5Cu003eGoogle%20Earth%20Engine%5Cu003c/a%5Cu003e%22%2C%20%22detectRetina%22%3A%20false%2C%20%22maxNativeZoom%22%3A%2018%2C%20%22maxZoom%22%3A%2018%2C%20%22minZoom%22%3A%200%2C%20%22noWrap%22%3A%20false%2C%20%22opacity%22%3A%201%2C%20%22subdomains%22%3A%20%22abc%22%2C%20%22tms%22%3A%20false%7D%0A%20%20%20%20%20%20%20%20%20%20%20%20%29.addTo%28map_db3a33a4cc2c43af8559dbd6d4fa7a66%29%3B%0A%20%20%20%20%20%20%20%20%0A%20%20%20%20%0A%20%20%20%20%20%20%20%20%20%20%20%20var%20tile_layer_3555c0d028b146af8a1810915a912779%20%3D%20L.tileLayer%28%0A%20%20%20%20%20%20%20%20%20%20%20%20%20%20%20%20%22https%3A//earthengine.googleapis.com/v1alpha/projects/earthengine-legacy/maps/a57a9dd326ee94217e905d1bbbc31bcb-52ff0ea14b19011a7ec98a12e9ba0374/tiles/%7Bz%7D/%7Bx%7D/%7By%7D%22%2C%0A%20%20%20%20%20%20%20%20%20%20%20%20%20%20%20%20%7B%22attribution%22%3A%20%22Map%20Data%20%5Cu00a9%20%5Cu003ca%20href%3D%5C%22https%3A//earthengine.google.com/%5C%22%5Cu003eGoogle%20Earth%20Engine%5Cu003c/a%5Cu003e%22%2C%20%22detectRetina%22%3A%20false%2C%20%22maxNativeZoom%22%3A%2018%2C%20%22maxZoom%22%3A%2018%2C%20%22minZoom%22%3A%200%2C%20%22noWrap%22%3A%20false%2C%20%22opacity%22%3A%201%2C%20%22subdomains%22%3A%20%22abc%22%2C%20%22tms%22%3A%20false%7D%0A%20%20%20%20%20%20%20%20%20%20%20%20%29.addTo%28map_db3a33a4cc2c43af8559dbd6d4fa7a66%29%3B%0A%20%20%20%20%20%20%20%20%0A%20%20%20%20%0A%20%20%20%20%20%20%20%20%20%20%20%20var%20tile_layer_49459ed59e7d49bf898713e65e6bfa11%20%3D%20L.tileLayer%28%0A%20%20%20%20%20%20%20%20%20%20%20%20%20%20%20%20%22https%3A//earthengine.googleapis.com/v1alpha/projects/earthengine-legacy/maps/d5558435cbefb32762d8b0f5f59df504-649c843fa88c0e513bdcdb10ea12db7b/tiles/%7Bz%7D/%7Bx%7D/%7By%7D%22%2C%0A%20%20%20%20%20%20%20%20%20%20%20%20%20%20%20%20%7B%22attribution%22%3A%20%22Map%20Data%20%5Cu00a9%20%5Cu003ca%20href%3D%5C%22https%3A//earthengine.google.com/%5C%22%5Cu003eGoogle%20Earth%20Engine%5Cu003c/a%5Cu003e%22%2C%20%22detectRetina%22%3A%20false%2C%20%22maxNativeZoom%22%3A%2018%2C%20%22maxZoom%22%3A%2018%2C%20%22minZoom%22%3A%200%2C%20%22noWrap%22%3A%20false%2C%20%22opacity%22%3A%201%2C%20%22subdomains%22%3A%20%22abc%22%2C%20%22tms%22%3A%20false%7D%0A%20%20%20%20%20%20%20%20%20%20%20%20%29.addTo%28map_db3a33a4cc2c43af8559dbd6d4fa7a66%29%3B%0A%20%20%20%20%20%20%20%20%0A%20%20%20%20%0A%20%20%20%20%20%20%20%20%20%20%20%20var%20tile_layer_6da115f8a2f94643ac511db3a4a93395%20%3D%20L.tileLayer%28%0A%20%20%20%20%20%20%20%20%20%20%20%20%20%20%20%20%22https%3A//earthengine.googleapis.com/v1alpha/projects/earthengine-legacy/maps/5d11b1bddd9f35fb403aaf69fd187700-9a3177184917eed9b860d489a1c4aec6/tiles/%7Bz%7D/%7Bx%7D/%7By%7D%22%2C%0A%20%20%20%20%20%20%20%20%20%20%20%20%20%20%20%20%7B%22attribution%22%3A%20%22Map%20Data%20%5Cu00a9%20%5Cu003ca%20href%3D%5C%22https%3A//earthengine.google.com/%5C%22%5Cu003eGoogle%20Earth%20Engine%5Cu003c/a%5Cu003e%22%2C%20%22detectRetina%22%3A%20false%2C%20%22maxNativeZoom%22%3A%2018%2C%20%22maxZoom%22%3A%2018%2C%20%22minZoom%22%3A%200%2C%20%22noWrap%22%3A%20false%2C%20%22opacity%22%3A%201%2C%20%22subdomains%22%3A%20%22abc%22%2C%20%22tms%22%3A%20false%7D%0A%20%20%20%20%20%20%20%20%20%20%20%20%29.addTo%28map_db3a33a4cc2c43af8559dbd6d4fa7a66%29%3B%0A%20%20%20%20%20%20%20%20%0A%20%20%20%20%0A%20%20%20%20%20%20%20%20%20%20%20%20var%20layer_control_b2ab06726467498cac48e550ad3d9871%20%3D%20%7B%0A%20%20%20%20%20%20%20%20%20%20%20%20%20%20%20%20base_layers%20%3A%20%7B%0A%20%20%20%20%20%20%20%20%20%20%20%20%20%20%20%20%20%20%20%20%22openstreetmap%22%20%3A%20tile_layer_f32a05bff9fe43e09e4c6e23c3e351c3%2C%0A%20%20%20%20%20%20%20%20%20%20%20%20%20%20%20%20%7D%2C%0A%20%20%20%20%20%20%20%20%20%20%20%20%20%20%20%20overlays%20%3A%20%20%7B%0A%20%20%20%20%20%20%20%20%20%20%20%20%20%20%20%20%20%20%20%20%22Bantaji%20Sentinel-2%22%20%3A%20tile_layer_c72a8c3ce42d4d59bba357533262a0e5%2C%0A%20%20%20%20%20%20%20%20%20%20%20%20%20%20%20%20%20%20%20%20%22Change%20map%22%20%3A%20tile_layer_3555c0d028b146af8a1810915a912779%2C%0A%20%20%20%20%20%20%20%20%20%20%20%20%20%20%20%20%20%20%20%20%22p-value%22%20%3A%20tile_layer_49459ed59e7d49bf898713e65e6bfa11%2C%0A%20%20%20%20%20%20%20%20%20%20%20%20%20%20%20%20%20%20%20%20%22p_value%20%5Cu003c%20.01%22%20%3A%20tile_layer_6da115f8a2f94643ac511db3a4a93395%2C%0A%20%20%20%20%20%20%20%20%20%20%20%20%20%20%20%20%7D%2C%0A%20%20%20%20%20%20%20%20%20%20%20%20%7D%3B%0A%20%20%20%20%20%20%20%20%20%20%20%20L.control.layers%28%0A%20%20%20%20%20%20%20%20%20%20%20%20%20%20%20%20layer_control_b2ab06726467498cac48e550ad3d9871.base_layers%2C%0A%20%20%20%20%20%20%20%20%20%20%20%20%20%20%20%20layer_control_b2ab06726467498cac48e550ad3d9871.overlays%2C%0A%20%20%20%20%20%20%20%20%20%20%20%20%20%20%20%20%7B%22autoZIndex%22%3A%20true%2C%20%22collapsed%22%3A%20true%2C%20%22position%22%3A%20%22topright%22%7D%0A%20%20%20%20%20%20%20%20%20%20%20%20%29.addTo%28map_db3a33a4cc2c43af8559dbd6d4fa7a66%29%3B%0A%20%20%20%20%20%20%20%20%0A%3C/script%3E onload=\"this.contentDocument.open();this.contentDocument.write(    decodeURIComponent(this.getAttribute('data-html')));this.contentDocument.close();\" allowfullscreen webkitallowfullscreen mozallowfullscreen></iframe></div></div>"
      ],
      "text/plain": [
       "<folium.folium.Map at 0x1380aeee0>"
      ]
     },
     "metadata": {},
     "output_type": "display_data"
    }
   ],
   "source": [
    "def chi2cdf(chi2, df):\n",
    "    return ee.Image(chi2.divide(2)).gammainc(ee.Number(df).divide(2))\n",
    "\n",
    "p_value = ee.Image.constant(1).subtract(chi2cdf(m2logQ, 2))\n",
    "\n",
    "c_map_bivariate = p_value.multiply(0).where(p_value.lt(0.01), 1)\n",
    "\n",
    "mp = folium.Map(location=loc_sub, zoom_start = 13)\n",
    "mp.add_ee_layer(im_s2, {'bands': ['B4', 'B3', 'B2'], 'min': 0, 'max': 2500, 'gamma': 1.1}, 'Bantaji Sentinel-2')\n",
    "mp.add_ee_layer(c_map,\n",
    "                {'min': 0, 'max': 2, 'palette': ['black', 'blue', 'red']}, 'Change map')\n",
    "mp.add_ee_layer(p_value,\n",
    "                {'min': 0, 'max': 1, 'palette': ['black', 'white']}, 'p-value')\n",
    "mp.add_ee_layer(c_map_bivariate.updateMask(\n",
    "    c_map_bivariate.gt(0)), {'min': 0, 'max': 1, 'palette': ['black', 'lightgreen']}, 'p_value < .01'\n",
    ")\n",
    "mp.add_child(folium.LayerControl())\n",
    "display(mp)"
   ]
  },
  {
   "cell_type": "markdown",
   "metadata": {},
   "source": [
    "Let's repeat this analysis quickly for another region nearby where flooding did not occur to see the difference"
   ]
  },
  {
   "cell_type": "code",
   "execution_count": 368,
   "metadata": {},
   "outputs": [],
   "source": [
    "nigeria_aoi_no_flood = {\n",
    "  \"type\": \"FeatureCollection\",\n",
    "  \"features\": [\n",
    "   {\n",
    "      \"type\": \"Feature\",\n",
    "      \"properties\": {},\n",
    "      \"geometry\": {\n",
    "        \"type\": \"Polygon\",\n",
    "        \"coordinates\": [\n",
    "          [\n",
    "            [\n",
    "              10.070343017578125,\n",
    "              8.208941793684874\n",
    "            ],\n",
    "            [\n",
    "              10.09592056274414,\n",
    "              8.208941793684874\n",
    "            ],\n",
    "            [\n",
    "              10.09592056274414,\n",
    "              8.226951052987586\n",
    "            ],\n",
    "            [\n",
    "              10.070343017578125,\n",
    "              8.226951052987586\n",
    "            ],\n",
    "            [\n",
    "              10.070343017578125,\n",
    "              8.208941793684874\n",
    "            ]\n",
    "          ]\n",
    "        ]\n",
    "      }\n",
    "    }\n",
    "  ]\n",
    "}\n",
    "coords = nigeria_aoi_no_flood['features'][0]['geometry']['coordinates']\n",
    "aoi_sub_no_flood = ee.Geometry.Polygon(coords)"
   ]
  },
  {
   "cell_type": "code",
   "execution_count": 378,
   "metadata": {},
   "outputs": [
    {
     "data": {
      "text/html": [
       "<div style=\"width:100%;\"><div style=\"position:relative;width:100%;height:0;padding-bottom:60%;\"><span style=\"color:#565656\">Make this Notebook Trusted to load map: File -> Trust Notebook</span><iframe src=\"about:blank\" style=\"position:absolute;width:100%;height:100%;left:0;top:0;border:none !important;\" data-html=%3C%21DOCTYPE%20html%3E%0A%3Chead%3E%20%20%20%20%0A%20%20%20%20%3Cmeta%20http-equiv%3D%22content-type%22%20content%3D%22text/html%3B%20charset%3DUTF-8%22%20/%3E%0A%20%20%20%20%0A%20%20%20%20%20%20%20%20%3Cscript%3E%0A%20%20%20%20%20%20%20%20%20%20%20%20L_NO_TOUCH%20%3D%20false%3B%0A%20%20%20%20%20%20%20%20%20%20%20%20L_DISABLE_3D%20%3D%20false%3B%0A%20%20%20%20%20%20%20%20%3C/script%3E%0A%20%20%20%20%0A%20%20%20%20%3Cstyle%3Ehtml%2C%20body%20%7Bwidth%3A%20100%25%3Bheight%3A%20100%25%3Bmargin%3A%200%3Bpadding%3A%200%3B%7D%3C/style%3E%0A%20%20%20%20%3Cstyle%3E%23map%20%7Bposition%3Aabsolute%3Btop%3A0%3Bbottom%3A0%3Bright%3A0%3Bleft%3A0%3B%7D%3C/style%3E%0A%20%20%20%20%3Cscript%20src%3D%22https%3A//cdn.jsdelivr.net/npm/leaflet%401.6.0/dist/leaflet.js%22%3E%3C/script%3E%0A%20%20%20%20%3Cscript%20src%3D%22https%3A//code.jquery.com/jquery-1.12.4.min.js%22%3E%3C/script%3E%0A%20%20%20%20%3Cscript%20src%3D%22https%3A//maxcdn.bootstrapcdn.com/bootstrap/3.2.0/js/bootstrap.min.js%22%3E%3C/script%3E%0A%20%20%20%20%3Cscript%20src%3D%22https%3A//cdnjs.cloudflare.com/ajax/libs/Leaflet.awesome-markers/2.0.2/leaflet.awesome-markers.js%22%3E%3C/script%3E%0A%20%20%20%20%3Clink%20rel%3D%22stylesheet%22%20href%3D%22https%3A//cdn.jsdelivr.net/npm/leaflet%401.6.0/dist/leaflet.css%22/%3E%0A%20%20%20%20%3Clink%20rel%3D%22stylesheet%22%20href%3D%22https%3A//maxcdn.bootstrapcdn.com/bootstrap/3.2.0/css/bootstrap.min.css%22/%3E%0A%20%20%20%20%3Clink%20rel%3D%22stylesheet%22%20href%3D%22https%3A//maxcdn.bootstrapcdn.com/bootstrap/3.2.0/css/bootstrap-theme.min.css%22/%3E%0A%20%20%20%20%3Clink%20rel%3D%22stylesheet%22%20href%3D%22https%3A//maxcdn.bootstrapcdn.com/font-awesome/4.6.3/css/font-awesome.min.css%22/%3E%0A%20%20%20%20%3Clink%20rel%3D%22stylesheet%22%20href%3D%22https%3A//cdnjs.cloudflare.com/ajax/libs/Leaflet.awesome-markers/2.0.2/leaflet.awesome-markers.css%22/%3E%0A%20%20%20%20%3Clink%20rel%3D%22stylesheet%22%20href%3D%22https%3A//cdn.jsdelivr.net/gh/python-visualization/folium/folium/templates/leaflet.awesome.rotate.min.css%22/%3E%0A%20%20%20%20%0A%20%20%20%20%20%20%20%20%20%20%20%20%3Cmeta%20name%3D%22viewport%22%20content%3D%22width%3Ddevice-width%2C%0A%20%20%20%20%20%20%20%20%20%20%20%20%20%20%20%20initial-scale%3D1.0%2C%20maximum-scale%3D1.0%2C%20user-scalable%3Dno%22%20/%3E%0A%20%20%20%20%20%20%20%20%20%20%20%20%3Cstyle%3E%0A%20%20%20%20%20%20%20%20%20%20%20%20%20%20%20%20%23map_65d5768dcbf64cf3948a1e7831ed87ef%20%7B%0A%20%20%20%20%20%20%20%20%20%20%20%20%20%20%20%20%20%20%20%20position%3A%20relative%3B%0A%20%20%20%20%20%20%20%20%20%20%20%20%20%20%20%20%20%20%20%20width%3A%20100.0%25%3B%0A%20%20%20%20%20%20%20%20%20%20%20%20%20%20%20%20%20%20%20%20height%3A%20100.0%25%3B%0A%20%20%20%20%20%20%20%20%20%20%20%20%20%20%20%20%20%20%20%20left%3A%200.0%25%3B%0A%20%20%20%20%20%20%20%20%20%20%20%20%20%20%20%20%20%20%20%20top%3A%200.0%25%3B%0A%20%20%20%20%20%20%20%20%20%20%20%20%20%20%20%20%7D%0A%20%20%20%20%20%20%20%20%20%20%20%20%3C/style%3E%0A%20%20%20%20%20%20%20%20%0A%3C/head%3E%0A%3Cbody%3E%20%20%20%20%0A%20%20%20%20%0A%20%20%20%20%20%20%20%20%20%20%20%20%3Cdiv%20class%3D%22folium-map%22%20id%3D%22map_65d5768dcbf64cf3948a1e7831ed87ef%22%20%3E%3C/div%3E%0A%20%20%20%20%20%20%20%20%0A%3C/body%3E%0A%3Cscript%3E%20%20%20%20%0A%20%20%20%20%0A%20%20%20%20%20%20%20%20%20%20%20%20var%20map_65d5768dcbf64cf3948a1e7831ed87ef%20%3D%20L.map%28%0A%20%20%20%20%20%20%20%20%20%20%20%20%20%20%20%20%22map_65d5768dcbf64cf3948a1e7831ed87ef%22%2C%0A%20%20%20%20%20%20%20%20%20%20%20%20%20%20%20%20%7B%0A%20%20%20%20%20%20%20%20%20%20%20%20%20%20%20%20%20%20%20%20center%3A%20%5B8.105861378744338%2C%2010.10952472688378%5D%2C%0A%20%20%20%20%20%20%20%20%20%20%20%20%20%20%20%20%20%20%20%20crs%3A%20L.CRS.EPSG3857%2C%0A%20%20%20%20%20%20%20%20%20%20%20%20%20%20%20%20%20%20%20%20zoom%3A%2013%2C%0A%20%20%20%20%20%20%20%20%20%20%20%20%20%20%20%20%20%20%20%20zoomControl%3A%20true%2C%0A%20%20%20%20%20%20%20%20%20%20%20%20%20%20%20%20%20%20%20%20preferCanvas%3A%20false%2C%0A%20%20%20%20%20%20%20%20%20%20%20%20%20%20%20%20%7D%0A%20%20%20%20%20%20%20%20%20%20%20%20%29%3B%0A%0A%20%20%20%20%20%20%20%20%20%20%20%20%0A%0A%20%20%20%20%20%20%20%20%0A%20%20%20%20%0A%20%20%20%20%20%20%20%20%20%20%20%20var%20tile_layer_ac4b66160ade4120be470fd7db691cd7%20%3D%20L.tileLayer%28%0A%20%20%20%20%20%20%20%20%20%20%20%20%20%20%20%20%22https%3A//%7Bs%7D.tile.openstreetmap.org/%7Bz%7D/%7Bx%7D/%7By%7D.png%22%2C%0A%20%20%20%20%20%20%20%20%20%20%20%20%20%20%20%20%7B%22attribution%22%3A%20%22Data%20by%20%5Cu0026copy%3B%20%5Cu003ca%20href%3D%5C%22http%3A//openstreetmap.org%5C%22%5Cu003eOpenStreetMap%5Cu003c/a%5Cu003e%2C%20under%20%5Cu003ca%20href%3D%5C%22http%3A//www.openstreetmap.org/copyright%5C%22%5Cu003eODbL%5Cu003c/a%5Cu003e.%22%2C%20%22detectRetina%22%3A%20false%2C%20%22maxNativeZoom%22%3A%2018%2C%20%22maxZoom%22%3A%2018%2C%20%22minZoom%22%3A%200%2C%20%22noWrap%22%3A%20false%2C%20%22opacity%22%3A%201%2C%20%22subdomains%22%3A%20%22abc%22%2C%20%22tms%22%3A%20false%7D%0A%20%20%20%20%20%20%20%20%20%20%20%20%29.addTo%28map_65d5768dcbf64cf3948a1e7831ed87ef%29%3B%0A%20%20%20%20%20%20%20%20%0A%20%20%20%20%0A%20%20%20%20%20%20%20%20%20%20%20%20var%20tile_layer_953eb4be83f14cd18bab9b38a23dc775%20%3D%20L.tileLayer%28%0A%20%20%20%20%20%20%20%20%20%20%20%20%20%20%20%20%22https%3A//earthengine.googleapis.com/v1alpha/projects/earthengine-legacy/maps/387935e570d0c13cad0f5fcf9aa8edb3-80f9489089ab5aae1769bcf997209ff8/tiles/%7Bz%7D/%7Bx%7D/%7By%7D%22%2C%0A%20%20%20%20%20%20%20%20%20%20%20%20%20%20%20%20%7B%22attribution%22%3A%20%22Map%20Data%20%5Cu00a9%20%5Cu003ca%20href%3D%5C%22https%3A//earthengine.google.com/%5C%22%5Cu003eGoogle%20Earth%20Engine%5Cu003c/a%5Cu003e%22%2C%20%22detectRetina%22%3A%20false%2C%20%22maxNativeZoom%22%3A%2018%2C%20%22maxZoom%22%3A%2018%2C%20%22minZoom%22%3A%200%2C%20%22noWrap%22%3A%20false%2C%20%22opacity%22%3A%201%2C%20%22subdomains%22%3A%20%22abc%22%2C%20%22tms%22%3A%20false%7D%0A%20%20%20%20%20%20%20%20%20%20%20%20%29.addTo%28map_65d5768dcbf64cf3948a1e7831ed87ef%29%3B%0A%20%20%20%20%20%20%20%20%0A%20%20%20%20%0A%20%20%20%20%20%20%20%20%20%20%20%20var%20tile_layer_bc8c01bc133f4242b9fdda5b792c9c70%20%3D%20L.tileLayer%28%0A%20%20%20%20%20%20%20%20%20%20%20%20%20%20%20%20%22https%3A//earthengine.googleapis.com/v1alpha/projects/earthengine-legacy/maps/a57a9dd326ee94217e905d1bbbc31bcb-762ab20d8be59e88b700fbf97bd2d47d/tiles/%7Bz%7D/%7Bx%7D/%7By%7D%22%2C%0A%20%20%20%20%20%20%20%20%20%20%20%20%20%20%20%20%7B%22attribution%22%3A%20%22Map%20Data%20%5Cu00a9%20%5Cu003ca%20href%3D%5C%22https%3A//earthengine.google.com/%5C%22%5Cu003eGoogle%20Earth%20Engine%5Cu003c/a%5Cu003e%22%2C%20%22detectRetina%22%3A%20false%2C%20%22maxNativeZoom%22%3A%2018%2C%20%22maxZoom%22%3A%2018%2C%20%22minZoom%22%3A%200%2C%20%22noWrap%22%3A%20false%2C%20%22opacity%22%3A%201%2C%20%22subdomains%22%3A%20%22abc%22%2C%20%22tms%22%3A%20false%7D%0A%20%20%20%20%20%20%20%20%20%20%20%20%29.addTo%28map_65d5768dcbf64cf3948a1e7831ed87ef%29%3B%0A%20%20%20%20%20%20%20%20%0A%20%20%20%20%0A%20%20%20%20%20%20%20%20%20%20%20%20var%20tile_layer_cf37d4138e8445c29ddfb4ec6648d93a%20%3D%20L.tileLayer%28%0A%20%20%20%20%20%20%20%20%20%20%20%20%20%20%20%20%22https%3A//earthengine.googleapis.com/v1alpha/projects/earthengine-legacy/maps/d5558435cbefb32762d8b0f5f59df504-08650d9a38e19a59ebe2aaaaea184a7c/tiles/%7Bz%7D/%7Bx%7D/%7By%7D%22%2C%0A%20%20%20%20%20%20%20%20%20%20%20%20%20%20%20%20%7B%22attribution%22%3A%20%22Map%20Data%20%5Cu00a9%20%5Cu003ca%20href%3D%5C%22https%3A//earthengine.google.com/%5C%22%5Cu003eGoogle%20Earth%20Engine%5Cu003c/a%5Cu003e%22%2C%20%22detectRetina%22%3A%20false%2C%20%22maxNativeZoom%22%3A%2018%2C%20%22maxZoom%22%3A%2018%2C%20%22minZoom%22%3A%200%2C%20%22noWrap%22%3A%20false%2C%20%22opacity%22%3A%201%2C%20%22subdomains%22%3A%20%22abc%22%2C%20%22tms%22%3A%20false%7D%0A%20%20%20%20%20%20%20%20%20%20%20%20%29.addTo%28map_65d5768dcbf64cf3948a1e7831ed87ef%29%3B%0A%20%20%20%20%20%20%20%20%0A%20%20%20%20%0A%20%20%20%20%20%20%20%20%20%20%20%20var%20tile_layer_e50c43debb86461fa34b58c9cd2eb9a4%20%3D%20L.tileLayer%28%0A%20%20%20%20%20%20%20%20%20%20%20%20%20%20%20%20%22https%3A//earthengine.googleapis.com/v1alpha/projects/earthengine-legacy/maps/5d11b1bddd9f35fb403aaf69fd187700-ec1f3a13112e4531379f6293dbff8851/tiles/%7Bz%7D/%7Bx%7D/%7By%7D%22%2C%0A%20%20%20%20%20%20%20%20%20%20%20%20%20%20%20%20%7B%22attribution%22%3A%20%22Map%20Data%20%5Cu00a9%20%5Cu003ca%20href%3D%5C%22https%3A//earthengine.google.com/%5C%22%5Cu003eGoogle%20Earth%20Engine%5Cu003c/a%5Cu003e%22%2C%20%22detectRetina%22%3A%20false%2C%20%22maxNativeZoom%22%3A%2018%2C%20%22maxZoom%22%3A%2018%2C%20%22minZoom%22%3A%200%2C%20%22noWrap%22%3A%20false%2C%20%22opacity%22%3A%201%2C%20%22subdomains%22%3A%20%22abc%22%2C%20%22tms%22%3A%20false%7D%0A%20%20%20%20%20%20%20%20%20%20%20%20%29.addTo%28map_65d5768dcbf64cf3948a1e7831ed87ef%29%3B%0A%20%20%20%20%20%20%20%20%0A%20%20%20%20%0A%20%20%20%20%20%20%20%20%20%20%20%20var%20tile_layer_60d433b01bed4477a0da8c217c929d16%20%3D%20L.tileLayer%28%0A%20%20%20%20%20%20%20%20%20%20%20%20%20%20%20%20%22https%3A//earthengine.googleapis.com/v1alpha/projects/earthengine-legacy/maps/95171ebc5bcc549814cb29a6cb67def5-fe9ba35864e0cf07d60422486ba608a1/tiles/%7Bz%7D/%7Bx%7D/%7By%7D%22%2C%0A%20%20%20%20%20%20%20%20%20%20%20%20%20%20%20%20%7B%22attribution%22%3A%20%22Map%20Data%20%5Cu00a9%20%5Cu003ca%20href%3D%5C%22https%3A//earthengine.google.com/%5C%22%5Cu003eGoogle%20Earth%20Engine%5Cu003c/a%5Cu003e%22%2C%20%22detectRetina%22%3A%20false%2C%20%22maxNativeZoom%22%3A%2018%2C%20%22maxZoom%22%3A%2018%2C%20%22minZoom%22%3A%200%2C%20%22noWrap%22%3A%20false%2C%20%22opacity%22%3A%201%2C%20%22subdomains%22%3A%20%22abc%22%2C%20%22tms%22%3A%20false%7D%0A%20%20%20%20%20%20%20%20%20%20%20%20%29.addTo%28map_65d5768dcbf64cf3948a1e7831ed87ef%29%3B%0A%20%20%20%20%20%20%20%20%0A%20%20%20%20%0A%20%20%20%20%20%20%20%20%20%20%20%20var%20tile_layer_93d401a81dac4b838d637d87f8f640f6%20%3D%20L.tileLayer%28%0A%20%20%20%20%20%20%20%20%20%20%20%20%20%20%20%20%22https%3A//earthengine.googleapis.com/v1alpha/projects/earthengine-legacy/maps/34c705d54ad4b92f152c1b7e0beded9e-54155ec85261212f512b055c7515519d/tiles/%7Bz%7D/%7Bx%7D/%7By%7D%22%2C%0A%20%20%20%20%20%20%20%20%20%20%20%20%20%20%20%20%7B%22attribution%22%3A%20%22Map%20Data%20%5Cu00a9%20%5Cu003ca%20href%3D%5C%22https%3A//earthengine.google.com/%5C%22%5Cu003eGoogle%20Earth%20Engine%5Cu003c/a%5Cu003e%22%2C%20%22detectRetina%22%3A%20false%2C%20%22maxNativeZoom%22%3A%2018%2C%20%22maxZoom%22%3A%2018%2C%20%22minZoom%22%3A%200%2C%20%22noWrap%22%3A%20false%2C%20%22opacity%22%3A%201%2C%20%22subdomains%22%3A%20%22abc%22%2C%20%22tms%22%3A%20false%7D%0A%20%20%20%20%20%20%20%20%20%20%20%20%29.addTo%28map_65d5768dcbf64cf3948a1e7831ed87ef%29%3B%0A%20%20%20%20%20%20%20%20%0A%20%20%20%20%0A%20%20%20%20%20%20%20%20%20%20%20%20var%20tile_layer_e0eec553ca4c401f9ee1dc8685d82bf4%20%3D%20L.tileLayer%28%0A%20%20%20%20%20%20%20%20%20%20%20%20%20%20%20%20%22https%3A//earthengine.googleapis.com/v1alpha/projects/earthengine-legacy/maps/dd603d2ebbb3ab9387fe09adfac28377-1482d18b51eefebbcdb613fead39440a/tiles/%7Bz%7D/%7Bx%7D/%7By%7D%22%2C%0A%20%20%20%20%20%20%20%20%20%20%20%20%20%20%20%20%7B%22attribution%22%3A%20%22Map%20Data%20%5Cu00a9%20%5Cu003ca%20href%3D%5C%22https%3A//earthengine.google.com/%5C%22%5Cu003eGoogle%20Earth%20Engine%5Cu003c/a%5Cu003e%22%2C%20%22detectRetina%22%3A%20false%2C%20%22maxNativeZoom%22%3A%2018%2C%20%22maxZoom%22%3A%2018%2C%20%22minZoom%22%3A%200%2C%20%22noWrap%22%3A%20false%2C%20%22opacity%22%3A%201%2C%20%22subdomains%22%3A%20%22abc%22%2C%20%22tms%22%3A%20false%7D%0A%20%20%20%20%20%20%20%20%20%20%20%20%29.addTo%28map_65d5768dcbf64cf3948a1e7831ed87ef%29%3B%0A%20%20%20%20%20%20%20%20%0A%20%20%20%20%0A%20%20%20%20%20%20%20%20%20%20%20%20var%20tile_layer_0250de25d7584716af3089e9dd2229b3%20%3D%20L.tileLayer%28%0A%20%20%20%20%20%20%20%20%20%20%20%20%20%20%20%20%22https%3A//earthengine.googleapis.com/v1alpha/projects/earthengine-legacy/maps/eb69f0d2a1dc259daeeaf628bd8e9204-d753b7ced4a611838ea755c373395da9/tiles/%7Bz%7D/%7Bx%7D/%7By%7D%22%2C%0A%20%20%20%20%20%20%20%20%20%20%20%20%20%20%20%20%7B%22attribution%22%3A%20%22Map%20Data%20%5Cu00a9%20%5Cu003ca%20href%3D%5C%22https%3A//earthengine.google.com/%5C%22%5Cu003eGoogle%20Earth%20Engine%5Cu003c/a%5Cu003e%22%2C%20%22detectRetina%22%3A%20false%2C%20%22maxNativeZoom%22%3A%2018%2C%20%22maxZoom%22%3A%2018%2C%20%22minZoom%22%3A%200%2C%20%22noWrap%22%3A%20false%2C%20%22opacity%22%3A%201%2C%20%22subdomains%22%3A%20%22abc%22%2C%20%22tms%22%3A%20false%7D%0A%20%20%20%20%20%20%20%20%20%20%20%20%29.addTo%28map_65d5768dcbf64cf3948a1e7831ed87ef%29%3B%0A%20%20%20%20%20%20%20%20%0A%20%20%20%20%0A%20%20%20%20%20%20%20%20%20%20%20%20var%20layer_control_9dffb1008b7148b8bad06b887659786d%20%3D%20%7B%0A%20%20%20%20%20%20%20%20%20%20%20%20%20%20%20%20base_layers%20%3A%20%7B%0A%20%20%20%20%20%20%20%20%20%20%20%20%20%20%20%20%20%20%20%20%22openstreetmap%22%20%3A%20tile_layer_ac4b66160ade4120be470fd7db691cd7%2C%0A%20%20%20%20%20%20%20%20%20%20%20%20%20%20%20%20%7D%2C%0A%20%20%20%20%20%20%20%20%20%20%20%20%20%20%20%20overlays%20%3A%20%20%7B%0A%20%20%20%20%20%20%20%20%20%20%20%20%20%20%20%20%20%20%20%20%22Bantaji%20Sentinel-2%20flood%22%20%3A%20tile_layer_953eb4be83f14cd18bab9b38a23dc775%2C%0A%20%20%20%20%20%20%20%20%20%20%20%20%20%20%20%20%20%20%20%20%22Change%20map%20flood%22%20%3A%20tile_layer_bc8c01bc133f4242b9fdda5b792c9c70%2C%0A%20%20%20%20%20%20%20%20%20%20%20%20%20%20%20%20%20%20%20%20%22p-value%20flood%22%20%3A%20tile_layer_cf37d4138e8445c29ddfb4ec6648d93a%2C%0A%20%20%20%20%20%20%20%20%20%20%20%20%20%20%20%20%20%20%20%20%22p_value%20%5Cu003c%20.01%20flood%22%20%3A%20tile_layer_e50c43debb86461fa34b58c9cd2eb9a4%2C%0A%20%20%20%20%20%20%20%20%20%20%20%20%20%20%20%20%20%20%20%20%22Bantaji%20Sentinel-2%20no%20flood%22%20%3A%20tile_layer_60d433b01bed4477a0da8c217c929d16%2C%0A%20%20%20%20%20%20%20%20%20%20%20%20%20%20%20%20%20%20%20%20%22Change%20map%20no%20flood%22%20%3A%20tile_layer_93d401a81dac4b838d637d87f8f640f6%2C%0A%20%20%20%20%20%20%20%20%20%20%20%20%20%20%20%20%20%20%20%20%22p-value%20no%20flood%22%20%3A%20tile_layer_e0eec553ca4c401f9ee1dc8685d82bf4%2C%0A%20%20%20%20%20%20%20%20%20%20%20%20%20%20%20%20%20%20%20%20%22p_value%20%5Cu003c%20.01%20no%20flood%22%20%3A%20tile_layer_0250de25d7584716af3089e9dd2229b3%2C%0A%20%20%20%20%20%20%20%20%20%20%20%20%20%20%20%20%7D%2C%0A%20%20%20%20%20%20%20%20%20%20%20%20%7D%3B%0A%20%20%20%20%20%20%20%20%20%20%20%20L.control.layers%28%0A%20%20%20%20%20%20%20%20%20%20%20%20%20%20%20%20layer_control_9dffb1008b7148b8bad06b887659786d.base_layers%2C%0A%20%20%20%20%20%20%20%20%20%20%20%20%20%20%20%20layer_control_9dffb1008b7148b8bad06b887659786d.overlays%2C%0A%20%20%20%20%20%20%20%20%20%20%20%20%20%20%20%20%7B%22autoZIndex%22%3A%20true%2C%20%22collapsed%22%3A%20true%2C%20%22position%22%3A%20%22topright%22%7D%0A%20%20%20%20%20%20%20%20%20%20%20%20%29.addTo%28map_65d5768dcbf64cf3948a1e7831ed87ef%29%3B%0A%20%20%20%20%20%20%20%20%0A%3C/script%3E onload=\"this.contentDocument.open();this.contentDocument.write(    decodeURIComponent(this.getAttribute('data-html')));this.contentDocument.close();\" allowfullscreen webkitallowfullscreen mozallowfullscreen></iframe></div></div>"
      ],
      "text/plain": [
       "<folium.folium.Map at 0x1380b4970>"
      ]
     },
     "metadata": {},
     "output_type": "display_data"
    }
   ],
   "source": [
    "im_s2_nf = ee.Image(sentinel_2.toList(sentinel_2.size()).get(7)).clip(aoi_sub_no_flood)\n",
    "\n",
    "\"\"\"Univariate\"\"\"\n",
    "im_1_nf = ee.Image(im_list.get(date_ix_1)).select('VV').clip(aoi_sub_no_flood)\n",
    "im_2_nf = ee.Image(im_list.get(date_ix_2)).select('VV').clip(aoi_sub_no_flood)\n",
    "\n",
    "alpha = .01\n",
    "dt = f.ppf(alpha/2, 2*m, 2*m)\n",
    "\n",
    "q1_nf = im_1_nf.divide(im_2_nf)\n",
    "q2_nf = im_2_nf.divide(im_1_nf)\n",
    "\n",
    "\"\"\"Here's a change map, where 0 = no change, 1 = decrease, 2 = increase in intensity\"\"\"\n",
    "c_map_nf = im_1_nf.multiply(0).where(q2.lt(dt), 1)\n",
    "c_map_nf = c_map_nf.where(q1.lt(dt), 2)\n",
    "\n",
    "\"\"\"Mask no-change pixels\"\"\"\n",
    "c_map_nf = c_map_nf.updateMask(c_map_nf.gt(0))\n",
    "\n",
    "\"\"\"Bivariate\"\"\"\n",
    "\n",
    "im_1_bivariate_nf = ee.Image(im_list.get(date_ix_1)).select('VV', 'VH').clip(aoi_sub_no_flood)\n",
    "im_2_bivariate_nf = ee.Image(im_list.get(date_ix_2)).select('VV', 'VH').clip(aoi_sub_no_flood)\n",
    "\n",
    "m2logQ_nf = det(im_1_bivariate_nf).log().add(det(im_2_bivariate_nf).log()).subtract(\n",
    "    det(im_1_bivariate_nf.add(im_2_bivariate_nf)).log().multiply(2)\n",
    ").add(4*np.log(2)).multiply(-2*m)\n",
    "\n",
    "p_value_nf = ee.Image.constant(1).subtract(chi2cdf(m2logQ_nf, 2))\n",
    "\n",
    "c_map_bivariate_nf = p_value_nf.multiply(0).where(p_value_nf.lt(0.01), 1)\n",
    "\n",
    "\"\"\"Display map with both flooded and non-flooded regions\"\"\"\n",
    "mp = folium.Map(location=loc_sub, zoom_start = 13)\n",
    "mp.add_ee_layer(im_s2, {'bands': ['B4', 'B3', 'B2'], 'min': 0, 'max': 2500, 'gamma': 1.1}, 'Bantaji Sentinel-2 flood')\n",
    "mp.add_ee_layer(c_map,\n",
    "                {'min': 0, 'max': 2, 'palette': ['black', 'blue', 'red']}, 'Change map flood')\n",
    "mp.add_ee_layer(p_value,\n",
    "                {'min': 0, 'max': 1, 'palette': ['black', 'white']}, 'p-value flood')\n",
    "mp.add_ee_layer(c_map_bivariate.updateMask(\n",
    "    c_map_bivariate.gt(0)), {'min': 0, 'max': 1, 'palette': ['black', 'lightgreen']}, 'p_value < .01 flood'\n",
    ")\n",
    "mp.add_ee_layer(im_s2_nf, {'bands': ['B4', 'B3', 'B2'], 'min': 0, 'max': 2500, 'gamma': 1.1}, 'Bantaji Sentinel-2 no flood')\n",
    "mp.add_ee_layer(c_map_nf,\n",
    "                {'min': 0, 'max': 2, 'palette': ['black', 'blue', 'red']}, 'Change map no flood')\n",
    "mp.add_ee_layer(p_value_nf,\n",
    "                {'min': 0, 'max': 1, 'palette': ['black', 'white']}, 'p-value no flood')\n",
    "mp.add_ee_layer(c_map_bivariate_nf.updateMask(\n",
    "    c_map_bivariate_nf.gt(0)), {'min': 0, 'max': 1, 'palette': ['black', 'lightgreen']}, 'p_value < .01 no flood'\n",
    ")\n",
    "mp.add_child(folium.LayerControl())\n",
    "display(mp)"
   ]
  },
  {
   "cell_type": "code",
   "execution_count": 377,
   "metadata": {},
   "outputs": [
    {
     "data": {
      "text/plain": [
       "<ee.ee_number.Number at 0x13ae961c0>"
      ]
     },
     "execution_count": 377,
     "metadata": {},
     "output_type": "execute_result"
    }
   ],
   "source": [
    "sentinel_2.size()"
   ]
  },
  {
   "cell_type": "code",
   "execution_count": null,
   "metadata": {},
   "outputs": [],
   "source": []
  }
 ],
 "metadata": {
  "interpreter": {
   "hash": "682f57a4a522c49525909bfdf2f2a18c40d29a56163b644b6c6b325908d61fb7"
  },
  "kernelspec": {
   "display_name": "Python 3.9.7 ('floodcrops')",
   "language": "python",
   "name": "python3"
  },
  "language_info": {
   "codemirror_mode": {
    "name": "ipython",
    "version": 3
   },
   "file_extension": ".py",
   "mimetype": "text/x-python",
   "name": "python",
   "nbconvert_exporter": "python",
   "pygments_lexer": "ipython3",
   "version": "3.9.7"
  },
  "orig_nbformat": 4
 },
 "nbformat": 4,
 "nbformat_minor": 2
}
